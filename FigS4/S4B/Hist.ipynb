{
 "cells": [
  {
   "cell_type": "code",
   "execution_count": null,
   "metadata": {},
   "outputs": [],
   "source": [
    "import pandas as pd\n",
    "import matplotlib.pyplot as plt\n",
    "import matplotlib\n",
    "import numpy as np\n",
    "matplotlib.rcParams['pdf.fonttype'] = 42\n",
    "matplotlib.rcParams['ps.fonttype'] = 42\n",
    "plt.rcParams['font.family'] = 'Arial'"
   ]
  },
  {
   "cell_type": "code",
   "execution_count": null,
   "metadata": {},
   "outputs": [],
   "source": [
    "S=pd.read_csv(\"A.csv\")"
   ]
  },
  {
   "cell_type": "code",
   "execution_count": null,
   "metadata": {},
   "outputs": [],
   "source": [
    "x=[]\n",
    "for i in range(len(S[\"g_kvhh\"])):\n",
    "    if i==0:\n",
    "        continue\n",
    "    ss1=S[\"g_nak\"][i]\n",
    "    x.append(ss1)\n",
    "    \n",
    "fig=plt.figure()\n",
    "ax = fig.add_subplot(111)\n",
    "Z=np.linspace(-2,2,3)\n",
    "\n",
    "\n",
    "y=[]\n",
    "for i in range(len(x)):\n",
    "    y.append(np.log10(x[i]))\n",
    "plt.hist(y,bins=40)\n",
    "plt.yticks(np.arange(0, 150, 50))\n",
    "ax.set_xticks(Z)\n",
    "plt.title(\"g_nak\")\n",
    "\n",
    "plt.savefig(\"nak.pdf\")"
   ]
  },
  {
   "cell_type": "code",
   "execution_count": null,
   "metadata": {},
   "outputs": [],
   "source": [
    "x=[]\n",
    "for i in range(len(S[\"g_kvhh\"])):\n",
    "    if i==0:\n",
    "        continue\n",
    "    ss1=S[\"g_kvhh\"][i]\n",
    "    x.append(ss1)\n",
    "    \n",
    "fig=plt.figure()\n",
    "ax = fig.add_subplot(111)\n",
    "Z=np.linspace(-2,2,3)\n",
    "\n",
    "\n",
    "y=[]\n",
    "for i in range(len(x)):\n",
    "    y.append(np.log10(x[i]))\n",
    "plt.hist(y,bins=40)\n",
    "plt.yticks(np.arange(0, 150, 50))\n",
    "ax.set_xticks(Z)\n",
    "plt.title(\"g_kvhh\")\n",
    "\n",
    "plt.savefig(\"kvhh.pdf\")"
   ]
  },
  {
   "cell_type": "code",
   "execution_count": null,
   "metadata": {},
   "outputs": [],
   "source": [
    "x=[]\n",
    "for i in range(len(S[\"g_kvhh\"])):\n",
    "    if i==0:\n",
    "        continue\n",
    "    ss1=S[\"g_unav\"][i]\n",
    "    x.append(ss1)\n",
    "    \n",
    "fig=plt.figure()\n",
    "ax = fig.add_subplot(111)\n",
    "Z=np.linspace(-2,2,3)\n",
    "\n",
    "\n",
    "y=[]\n",
    "for i in range(len(x)):\n",
    "    y.append(np.log10(x[i]))\n",
    "plt.hist(y,bins=40)\n",
    "plt.yticks(np.arange(0, 150, 50))\n",
    "ax.set_xticks(Z)\n",
    "plt.title(\"g_unav\")\n",
    "\n",
    "plt.savefig(\"unav.pdf\")"
   ]
  },
  {
   "cell_type": "code",
   "execution_count": null,
   "metadata": {},
   "outputs": [],
   "source": [
    "x=[]\n",
    "for i in range(len(S[\"g_kvhh\"])):\n",
    "    if i==0:\n",
    "        continue\n",
    "    ss1=S[\"g_leak\"][i]\n",
    "    x.append(ss1)\n",
    "    \n",
    "fig=plt.figure()\n",
    "ax = fig.add_subplot(111)\n",
    "Z=np.linspace(-2,2,3)\n",
    "\n",
    "\n",
    "y=[]\n",
    "for i in range(len(x)):\n",
    "    y.append(np.log10(x[i]))\n",
    "plt.hist(y,bins=40)\n",
    "plt.yticks(np.arange(0, 150, 50))\n",
    "ax.set_xticks(Z)\n",
    "plt.title(\"g_leak\")\n",
    "\n",
    "plt.savefig(\"leak.pdf\")"
   ]
  },
  {
   "cell_type": "code",
   "execution_count": null,
   "metadata": {},
   "outputs": [],
   "source": [
    "x=[]\n",
    "for i in range(len(S[\"g_kvhh\"])):\n",
    "    if i==0:\n",
    "        continue\n",
    "    ss1=S[\"g_cav\"][i]\n",
    "    x.append(ss1)\n",
    "    \n",
    "fig=plt.figure()\n",
    "ax = fig.add_subplot(111)\n",
    "Z=np.linspace(-2,2,3)\n",
    "\n",
    "\n",
    "y=[]\n",
    "for i in range(len(x)):\n",
    "    y.append(np.log10(x[i]))\n",
    "plt.hist(y,bins=40)\n",
    "plt.yticks(np.arange(0, 150, 50))\n",
    "ax.set_xticks(Z)\n",
    "plt.title(\"g_cav\")\n",
    "\n",
    "plt.savefig(\"cav.pdf\")"
   ]
  },
  {
   "cell_type": "code",
   "execution_count": null,
   "metadata": {},
   "outputs": [],
   "source": [
    "x=[]\n",
    "for i in range(len(S[\"g_kvhh\"])):\n",
    "    if i==0:\n",
    "        continue\n",
    "    ss1=S[\"x_na\"][i]\n",
    "\n",
    "    x.append(ss1)\n",
    "\n",
    "plt.hist(x,bins=40,range=(-45,45))\n",
    "plt.yticks(np.arange(0, 150, 50))\n",
    "plt.title(\"x_na\")\n",
    "plt.savefig(\"xna.pdf\")"
   ]
  },
  {
   "cell_type": "code",
   "execution_count": null,
   "metadata": {},
   "outputs": [],
   "source": [
    "x=[]\n",
    "for i in range(len(S[\"g_kvhh\"])):\n",
    "    if i==0:\n",
    "        continue\n",
    "    ss1=S[\"y_na\"][i]\n",
    "\n",
    "    x.append(ss1)\n",
    "\n",
    "plt.hist(x,bins=40,range=(-45,45))\n",
    "plt.yticks(np.arange(0, 150, 50))\n",
    "plt.title(\"y_na\")\n",
    "plt.savefig(\"yna.pdf\")"
   ]
  },
  {
   "cell_type": "code",
   "execution_count": null,
   "metadata": {},
   "outputs": [],
   "source": []
  }
 ],
 "metadata": {
  "kernelspec": {
   "display_name": "Python 3",
   "language": "python",
   "name": "python3"
  },
  "language_info": {
   "codemirror_mode": {
    "name": "ipython",
    "version": 3
   },
   "file_extension": ".py",
   "mimetype": "text/x-python",
   "name": "python",
   "nbconvert_exporter": "python",
   "pygments_lexer": "ipython3",
   "version": "3.8.5"
  }
 },
 "nbformat": 4,
 "nbformat_minor": 4
}
