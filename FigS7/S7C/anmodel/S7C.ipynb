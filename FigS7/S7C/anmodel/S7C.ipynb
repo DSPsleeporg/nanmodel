{
 "cells": [
  {
   "cell_type": "code",
   "execution_count": 1,
   "metadata": {},
   "outputs": [],
   "source": [
    "import os\n",
    "import sys\n",
    "import requests\n",
    "from datetime import datetime \n",
    "from multiprocessing import Pool\n",
    "import numpy as  np\n",
    "import pandas as pd\n",
    "from pathlib import Path\n",
    "import pickle\n",
    "from tqdm import tqdm\n",
    "from time import time\n",
    "from typing import Dict, List, Optional\n",
    "sys.path.append('../')\n",
    "sys.path.append('../anmodel')\n",
    "import matplotlib.pyplot as plt\n",
    "import anmodel\n",
    "import matplotlib\n",
    "matplotlib.rcParams['pdf.fonttype'] = 42\n",
    "matplotlib.rcParams['ps.fonttype'] = 42\n",
    "plt.rcParams['font.family'] = 'Arial'"
   ]
  },
  {
   "cell_type": "code",
   "execution_count": null,
   "metadata": {},
   "outputs": [],
   "source": [
    "S=pd.read_csv(\"B.csv\")\n",
    "anan1=anmodel.models.NAN20dmodel()\n",
    "hh=[940, 701, 52, 1020, 295, 809, 699, 693, 545, 990, 40, 450, 894, 592, 17, 102, 375, 959, 855, 862, 247, 1012, 808, 483, 219, 662, 95, 946, 462, 158, 594, 604, 888, 802, 220, 928, 620, 372, 576, 210, 660, 961, 973, 561, 110, 467, 521, 1047, 569, 567, 218, 680, 335, 163, 524, 829, 303, 1019, 804, 1026, 475, 697, 721, 32, 984, 440, 606, 800, 196, 598, 777, 774, 144, 903, 947, 357, 37, 979, 1028, 101, 301, 264, 980, 113, 421, 115, 750, 1037, 106, 544, 151, 442, 824, 278, 884, 924, 304, 451, 836, 214]\n",
    "\n",
    "\n",
    "\n",
    "\n",
    "\n",
    "\n",
    "\n",
    "\n",
    "for j in tqdm(range(100)):\n",
    "    if(j<=49):\n",
    "        continue\n",
    "    A=[]\n",
    "    num=hh[j]+1\n",
    "    A.append(S[\"g_kvhh\"][num])\n",
    "    A.append(S[\"g_unav\"][num])\n",
    "    A.append(S[\"g_nak\"][num])\n",
    "    A.append(S[\"g_leak\"][num]*0.6095)\n",
    "    A.append(S[\"g_leak\"][num]*0.3905*0.44)\n",
    "    A.append(S[\"g_leak\"][num]*0.3905*0.25)\n",
    "    A.append(S[\"g_leak\"][num]*0.3905*0.31)\n",
    "    A.append(S[\"x_na\"][num])\n",
    "    A.append(S[\"y_na\"][num])\n",
    "    A.append(S[\"g_cav\"][num])\n",
    "    A.append(121)\n",
    "\n",
    "\n",
    "    BBB=['g_kvhh', 'g_unav', 'g_nak','g_lek',  'g_lenana', 'g_lenaca', 'g_lenak', 'x_na', 'y_na', 'g_cav', 't_ca']\n",
    "    dic={key: val for key , val in zip(BBB,A)}\n",
    "    new_params=dic\n",
    "    anan1.set_params(new_params)\n",
    "    s,info=anan1.run_odeint()\n",
    "    \n",
    "    fig=plt.figure()\n",
    "    plt.subplot(2,1,1)\n",
    "    plt.plot(s[14999:,0])\n",
    "    plt.title(\"{}\" .format(j))\n",
    "    plt.subplot(2,1,2)\n",
    "    plt.plot(s[14999:,3])\n",
    "    plt.title(\"{}\" .format(j))\n",
    "    fig.savefig(\"b{}.png\" .format(j))\n",
    "    \n",
    "    "
   ]
  },
  {
   "cell_type": "code",
   "execution_count": null,
   "metadata": {},
   "outputs": [],
   "source": [
    "hh[76]"
   ]
  },
  {
   "cell_type": "code",
   "execution_count": null,
   "metadata": {},
   "outputs": [],
   "source": []
  },
  {
   "cell_type": "code",
   "execution_count": null,
   "metadata": {},
   "outputs": [],
   "source": []
  },
  {
   "cell_type": "code",
   "execution_count": null,
   "metadata": {},
   "outputs": [],
   "source": []
  },
  {
   "cell_type": "code",
   "execution_count": null,
   "metadata": {},
   "outputs": [],
   "source": []
  },
  {
   "cell_type": "code",
   "execution_count": 2,
   "metadata": {},
   "outputs": [
    {
     "data": {
      "text/plain": [
       "[<matplotlib.lines.Line2D at 0x7fae7a559b20>]"
      ]
     },
     "execution_count": 2,
     "metadata": {},
     "output_type": "execute_result"
    },
    {
     "data": {
      "image/png": "[encoded data removed]",
      "text/plain": [
       "<Figure size 432x288 with 1 Axes>"
      ]
     },
     "metadata": {
      "needs_background": "light"
     },
     "output_type": "display_data"
    }
   ],
   "source": [
    "S=pd.read_csv(\"B.csv\")\n",
    "anan1=anmodel.models.NAN20dmodel()\n",
    "num=37\n",
    "\n",
    "A=[]\n",
    "A.append(S[\"g_kvhh\"][num])\n",
    "A.append(S[\"g_unav\"][num])\n",
    "A.append(S[\"g_nak\"][num])\n",
    "A.append(S[\"g_leak\"][num]*0.6095)\n",
    "A.append(S[\"g_leak\"][num]*0.3905*0.44)\n",
    "A.append(S[\"g_leak\"][num]*0.3905*0.25)\n",
    "A.append(S[\"g_leak\"][num]*0.3905*0.31)\n",
    "A.append(S[\"x_na\"][num])\n",
    "A.append(S[\"y_na\"][num])\n",
    "A.append(S[\"g_cav\"][num])\n",
    "A.append(121)\n",
    "\n",
    "\n",
    "BBB=['g_kvhh', 'g_unav', 'g_nak','g_lek',  'g_lenana', 'g_lenaca', 'g_lenak', 'x_na', 'y_na', 'g_cav', 't_ca']\n",
    "dic={key: val for key , val in zip(BBB,A)}\n",
    "new_params=dic\n",
    "anan1.set_params(new_params)\n",
    "s,info=anan1.run_odeint()\n",
    "plt.plot(s[9999:,0])"
   ]
  },
  {
   "cell_type": "code",
   "execution_count": 8,
   "metadata": {},
   "outputs": [
    {
     "data": {
      "image/png": "[encoded data removed]",
      "text/plain": [
       "<Figure size 432x288 with 1 Axes>"
      ]
     },
     "metadata": {
      "needs_background": "light"
     },
     "output_type": "display_data"
    }
   ],
   "source": [
    "fig=plt.figure()\n",
    "ax = fig.add_subplot(111)\n",
    "plt.plot(s[1950000:,0])\n",
    "Z=np.linspace(-80,20, 5)\n",
    "ax.set_yticks(Z)\n",
    "plt.savefig(\"Fig7B1.pdf\")"
   ]
  },
  {
   "cell_type": "code",
   "execution_count": 9,
   "metadata": {},
   "outputs": [
    {
     "data": {
      "image/png": "[encoded data removed]",
      "text/plain": [
       "<Figure size 432x288 with 1 Axes>"
      ]
     },
     "metadata": {
      "needs_background": "light"
     },
     "output_type": "display_data"
    }
   ],
   "source": [
    "fig=plt.figure()\n",
    "ax = fig.add_subplot(111)\n",
    "plt.plot(s[1950000:,3])\n",
    "Z=np.linspace(7.4,8.2, 5)\n",
    "#ax.set_yticks(Z)\n",
    "plt.savefig(\"Fig7B2.pdf\")"
   ]
  },
  {
   "cell_type": "code",
   "execution_count": null,
   "metadata": {},
   "outputs": [],
   "source": [
    "plt.plot(s[480000:,3])"
   ]
  },
  {
   "cell_type": "code",
   "execution_count": null,
   "metadata": {},
   "outputs": [],
   "source": []
  },
  {
   "cell_type": "code",
   "execution_count": null,
   "metadata": {},
   "outputs": [],
   "source": []
  },
  {
   "cell_type": "code",
   "execution_count": null,
   "metadata": {},
   "outputs": [],
   "source": [
    "plt.plot(s[9999:,5])"
   ]
  },
  {
   "cell_type": "code",
   "execution_count": null,
   "metadata": {},
   "outputs": [],
   "source": [
    "plt.plot(s[9999:,7])"
   ]
  },
  {
   "cell_type": "code",
   "execution_count": null,
   "metadata": {},
   "outputs": [],
   "source": []
  },
  {
   "cell_type": "code",
   "execution_count": null,
   "metadata": {},
   "outputs": [],
   "source": [
    "S=pd.read_csv(\"B.csv\")\n",
    "anan1=anmodel.models.NAN20dmodel()\n",
    "num=594+1\n",
    "\n",
    "A=[]\n",
    "A.append(S[\"g_kvhh\"][num])\n",
    "A.append(S[\"g_unav\"][num])\n",
    "A.append(S[\"g_nak\"][num])\n",
    "A.append(S[\"g_leak\"][num]*0.6095)\n",
    "A.append(S[\"g_leak\"][num]*0.3905*0.44)\n",
    "A.append(S[\"g_leak\"][num]*0.3905*0.25)\n",
    "A.append(S[\"g_leak\"][num]*0.3905*0.31)\n",
    "A.append(S[\"x_na\"][num])\n",
    "A.append(S[\"y_na\"][num])\n",
    "A.append(S[\"g_cav\"][num])\n",
    "A.append(121)\n",
    "\n",
    "\n",
    "BBB=['g_kvhh', 'g_unav', 'g_nak','g_lek',  'g_lenana', 'g_lenaca', 'g_lenak', 'x_na', 'y_na', 'g_cav', 't_ca']\n",
    "dic={key: val for key , val in zip(BBB,A)}\n",
    "new_params=dic\n",
    "anan1.set_params(new_params)\n",
    "s,info=anan1.run_odeint()\n",
    "plt.plot(s[9999:,0])"
   ]
  },
  {
   "cell_type": "code",
   "execution_count": null,
   "metadata": {},
   "outputs": [],
   "source": [
    "plt.plot(s[9999:,3])"
   ]
  },
  {
   "cell_type": "code",
   "execution_count": null,
   "metadata": {},
   "outputs": [],
   "source": []
  },
  {
   "cell_type": "code",
   "execution_count": null,
   "metadata": {},
   "outputs": [],
   "source": []
  }
 ],
 "metadata": {
  "kernelspec": {
   "display_name": "Python 3",
   "language": "python",
   "name": "python3"
  },
  "language_info": {
   "codemirror_mode": {
    "name": "ipython",
    "version": 3
   },
   "file_extension": ".py",
   "mimetype": "text/x-python",
   "name": "python",
   "nbconvert_exporter": "python",
   "pygments_lexer": "ipython3",
   "version": "3.8.5"
  }
 },
 "nbformat": 4,
 "nbformat_minor": 4
}
