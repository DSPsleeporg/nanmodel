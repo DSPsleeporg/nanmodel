{
 "cells": [
  {
   "cell_type": "code",
   "execution_count": null,
   "metadata": {},
   "outputs": [],
   "source": [
    "import os\n",
    "import sys\n",
    "import requests\n",
    "from datetime import datetime\n",
    "from multiprocessing import Pool\n",
    "import numpy as np\n",
    "import pandas as pd\n",
    "from pathlib import Path\n",
    "import pickle\n",
    "from time import time\n",
    "from typing import Dict, List, Optional\n",
    "import warnings\n",
    "warnings.filterwarnings('ignore')\n",
    "sys.path.append('../')\n",
    "sys.path.append('../anmodel')\n",
    "import matplotlib.pyplot as plt\n",
    "from PIL import Image\n",
    "import matplotlib.pyplot as plt\n",
    "import anmodel\n",
    "from tqdm import tqdm\n",
    "import matplotlib\n",
    "matplotlib.rcParams['pdf.fonttype'] = 42\n",
    "matplotlib.rcParams['ps.fonttype'] = 42\n",
    "plt.rcParams['font.family'] = 'Arial'"
   ]
  },
  {
   "cell_type": "code",
   "execution_count": null,
   "metadata": {},
   "outputs": [],
   "source": [
    "S0=pd.read_csv(\"0.csv\")\n",
    "S1=pd.read_csv(\"1.csv\")\n",
    "S2=pd.read_csv(\"2.csv\")\n",
    "S3=pd.read_csv(\"3.csv\")\n",
    "S4=pd.read_csv(\"4.csv\")\n",
    "S5=pd.read_csv(\"5.csv\")\n",
    "S6=pd.read_csv(\"6.csv\")\n",
    "S7=pd.read_csv(\"7.csv\")\n",
    "S8=pd.read_csv(\"8.csv\")\n",
    "S9=pd.read_csv(\"9.csv\")\n",
    "S10=pd.read_csv(\"10.csv\")\n",
    "S11=pd.read_csv(\"11.csv\")\n",
    "S12=pd.read_csv(\"12.csv\")\n",
    "S13=pd.read_csv(\"13.csv\")\n",
    "S14=pd.read_csv(\"14.csv\")\n",
    "S15=pd.read_csv(\"15.csv\")\n",
    "S16=pd.read_csv(\"16.csv\")\n",
    "S17=pd.read_csv(\"17.csv\")\n",
    "S18=pd.read_csv(\"18.csv\")\n",
    "\n",
    "a=\"AWAKE\"\n",
    "r=\"RESTING\"\n",
    "e=\"ELSE\"\n",
    "height1 = np.array([S0[\"SWS\"][0],S1[\"SWS\"][0],S2[\"SWS\"][0],S3[\"SWS\"][0],S4[\"SWS\"][0],S5[\"SWS\"][0],S6[\"SWS\"][0],S7[\"SWS\"][0],S8[\"SWS\"][0],S9[\"SWS\"][0],S10[\"SWS\"][0],S11[\"SWS\"][0],S12[\"SWS\"][0],S13[\"SWS\"][0],S14[\"SWS\"][0],S15[\"SWS\"][0],S16[\"SWS\"][0],S17[\"SWS\"][0],S18[\"SWS\"][0]])\n",
    "height2 = np.array([S0[a][0],S1[a][0],S2[a][0],S3[a][0],S4[a][0],S5[a][0],S6[a][0],S7[a][0],S8[a][0],S9[a][0],S10[a][0],S11[a][0],S12[a][0],S13[a][0],S14[a][0],S15[a][0],S16[a][0],S17[a][0],S18[a][0]])\n",
    "height3 = np.array([S0[r][0],S1[r][0],S2[r][0],S3[r][0],S4[r][0],S5[r][0],S6[r][0],S7[r][0],S8[r][0],S9[r][0],S10[r][0],S11[r][0],S12[r][0],S13[r][0],S14[r][0],S15[r][0],S16[r][0],S17[r][0],S18[r][0]])\n",
    "height4 = np.array([S0[e][0],S1[e][0],S2[e][0],S3[e][0],S4[e][0],S5[e][0],S6[e][0],S7[e][0],S8[e][0],S9[e][0],S10[e][0],S11[e][0],S12[e][0],S13[e][0],S14[e][0],S15[e][0],S16[e][0],S17[e][0],S18[e][0]])\n",
    "\n",
    "\n",
    "plt.figure(figsize=(12,12))\n",
    "left = ['g_kvhh', 'g_unav', 'g_kna','g_kca', 'g_lek', 'g_lena', 'g_cav', 't_na', 't_ca', 'x_na', 'y_na','g_nav', 'g_nap','g_kva','g_kvsi','g_kir','g_ampar','g_nmdar', 'g_gabar']\n",
    "p1 = plt.bar(left, height1)\n",
    "p2 = plt.bar(left, height2, bottom=height1)\n",
    "p3 = plt.bar(left, height3, bottom=height1+height2)\n",
    "p4 = plt.bar(left, height4, bottom=height1+height2+height3)\n",
    "\n",
    "plt.legend((p1[0], p2[0],p3[0],p4[0]), (\"SWS\",\"AWAKE\",\"RESTING\",\"ELSE\"))\n",
    "plt.savefig(\"S5A.pdf\")"
   ]
  }
 ],
 "metadata": {
  "kernelspec": {
   "display_name": "Python 3",
   "language": "python",
   "name": "python3"
  },
  "language_info": {
   "codemirror_mode": {
    "name": "ipython",
    "version": 3
   },
   "file_extension": ".py",
   "mimetype": "text/x-python",
   "name": "python",
   "nbconvert_exporter": "python",
   "pygments_lexer": "ipython3",
   "version": "3.8.5"
  }
 },
 "nbformat": 4,
 "nbformat_minor": 4
}
