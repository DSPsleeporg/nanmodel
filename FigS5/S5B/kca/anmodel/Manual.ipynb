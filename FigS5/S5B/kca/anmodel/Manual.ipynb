{
 "cells": [
  {
   "cell_type": "code",
   "execution_count": null,
   "metadata": {},
   "outputs": [],
   "source": [
    "import os\n",
    "import sys\n",
    "import requests\n",
    "from datetime import datetime\n",
    "from multiprocessing import Pool\n",
    "import numpy as np\n",
    "import pandas as pd\n",
    "from pathlib import Path\n",
    "import pickle\n",
    "from time import time\n",
    "from typing import Dict, List, Optional\n",
    "import warnings\n",
    "warnings.filterwarnings('ignore')\n",
    "sys.path.append('../')\n",
    "sys.path.append('../anmodel')\n",
    "import matplotlib.pyplot as plt\n",
    "from PIL import Image\n",
    "import matplotlib.pyplot as plt\n",
    "import anmodel\n",
    "from tqdm import tqdm"
   ]
  },
  {
   "cell_type": "code",
   "execution_count": null,
   "metadata": {},
   "outputs": [],
   "source": [
    "Model=\"FNANd\"\n",
    "\n",
    "if(Model==\"NAN1.0\"):\n",
    "    mnnan1=anmodel.models.NAN10model()\n",
    "if(Model==\"NAN1.1\"):\n",
    "    mnnan1=anmodel.models.NAN11model()\n",
    "if(Model==\"NAN1.2\"):\n",
    "    mnnan1=anmodel.models.NAN12model()\n",
    "if(Model==\"NAN1.3\"):\n",
    "    mnnan1=anmodel.models.NAN13model()\n",
    "if(Model==\"NAN2.0\"):\n",
    "    mnnan1=anmodel.models.NAN20model()\n",
    "if(Model==\"NAN2.1\"):\n",
    "    mnnan1=anmodel.models.NAN21model()\n",
    "if(Model==\"SNAN\"):\n",
    "    mnnan1=anmodel.models.SNANmodel()\n",
    "if(Model==\"FNANd\"):\n",
    "    mnnan1=anmodel.models.FNANdmodel()"
   ]
  },
  {
   "cell_type": "code",
   "execution_count": null,
   "metadata": {},
   "outputs": [],
   "source": [
    "S=pd.read_csv(\"A.csv\")"
   ]
  },
  {
   "cell_type": "code",
   "execution_count": null,
   "metadata": {},
   "outputs": [],
   "source": [
    "if(Model==\"FNANd\"):\n",
    "    x=len(S[\"g_kvhh\"])\n",
    "    for j in tqdm(range(x)):\n",
    "        if j==0:\n",
    "            continue    \n",
    "        A=[]\n",
    "        c=j\n",
    "        A.append(S['g_leak'][c]*0.6095)\n",
    "        A.append(S['g_leak'][c]*0.3905)\n",
    "        A.append(S['g_nav'][c])\n",
    "        A.append(S['g_kvhh'][c])\n",
    "        A.append(S['g_kva'][c])\n",
    "        A.append(S['g_kvsi'][c])\n",
    "        A.append(S['g_cav'][c])\n",
    "        A.append(S['g_kca'][c]*0)\n",
    "        A.append(S['g_nap'][c])\n",
    "        A.append(S['g_kir'][c])\n",
    "        A.append(S['g_unav'][c])\n",
    "        A.append(S['g_kna'][c])\n",
    "        A.append(S['g_ampar'][c])\n",
    "        A.append(S['g_nmdar'][c])\n",
    "        A.append(S['g_gabar'][c])\n",
    "        A.append(S['t_ca'][c])\n",
    "        A.append(S['t_na'][c])\n",
    "        A.append(S['x_na'][c])\n",
    "        A.append(S['y_na'][c])\n",
    "\n",
    "\n",
    "        \n",
    "        BBB=['g_lek','g_lena',  'g_nav', 'g_kvhh', 'g_kva', 'g_kvsi', 'g_cav', 'g_kca', 'g_nap', 'g_kir', 'g_unav', 'g_kna', 'g_ampar', 'g_nmdar', 'g_gabar', 't_ca', 't_na', 'x_na', 'y_na']\n",
    "        dic={key:  val for key, val in zip(BBB,A)}\n",
    "        #new_params: pd.DataFrame=pd.DataFrame.from_dict(dic,orient='index').T\n",
    "        new_params=dic\n",
    "\n",
    "        mnnan1.set_params(new_params)\n",
    "        s,info=mnnan1.run_odeint()\n",
    "        fig=plt.figure()\n",
    "        plt.subplot(2,1,1)\n",
    "        plt.plot(s[9999:,0])\n",
    "        plt.title(\"{}\" .format(j))\n",
    "        plt.subplot(2,1,2)\n",
    "        plt.plot(s[14999:,0])\n",
    "        plt.title(\"{}\" .format(j))\n",
    "        fig.savefig(\"{}.png\" .format(j))\n",
    "\n"
   ]
  },
  {
   "cell_type": "code",
   "execution_count": null,
   "metadata": {},
   "outputs": [],
   "source": []
  },
  {
   "cell_type": "code",
   "execution_count": null,
   "metadata": {},
   "outputs": [],
   "source": []
  },
  {
   "cell_type": "code",
   "execution_count": null,
   "metadata": {},
   "outputs": [],
   "source": []
  },
  {
   "cell_type": "code",
   "execution_count": null,
   "metadata": {},
   "outputs": [],
   "source": []
  },
  {
   "cell_type": "code",
   "execution_count": null,
   "metadata": {},
   "outputs": [],
   "source": []
  },
  {
   "cell_type": "code",
   "execution_count": null,
   "metadata": {},
   "outputs": [],
   "source": []
  },
  {
   "cell_type": "code",
   "execution_count": null,
   "metadata": {},
   "outputs": [],
   "source": []
  },
  {
   "cell_type": "code",
   "execution_count": null,
   "metadata": {},
   "outputs": [],
   "source": []
  },
  {
   "cell_type": "code",
   "execution_count": null,
   "metadata": {},
   "outputs": [],
   "source": [
    "S=pd.read_csv(\"B.csv\")"
   ]
  },
  {
   "cell_type": "code",
   "execution_count": null,
   "metadata": {},
   "outputs": [],
   "source": [
    "if(Model==\"FNANd\"):\n",
    "    x=len(S[\"g_kvhh\"])\n",
    "    for j in tqdm(range(x)):\n",
    "        if j==0:\n",
    "            continue    \n",
    "        A=[]\n",
    "        c=j\n",
    "        A.append(S['g_leak'][c]*0.6095)\n",
    "        A.append(S['g_leak'][c]*0.3905)\n",
    "        A.append(S['g_nav'][c])\n",
    "        A.append(S['g_kvhh'][c])\n",
    "        A.append(S['g_kva'][c])\n",
    "        A.append(S['g_kvsi'][c])\n",
    "        A.append(S['g_cav'][c])\n",
    "        A.append(S['g_kca'][c])\n",
    "        A.append(S['g_nap'][c])\n",
    "        A.append(S['g_kir'][c])\n",
    "        A.append(S['g_unav'][c])\n",
    "        A.append(S['g_kna'][c])\n",
    "        A.append(S['g_ampar'][c])\n",
    "        A.append(S['g_nmdar'][c])\n",
    "        A.append(S['g_gabar'][c])\n",
    "        A.append(S['t_ca'][c])\n",
    "        A.append(S['t_na'][c])\n",
    "        A.append(S['x_na'][c])\n",
    "        A.append(S['y_na'][c])\n",
    "\n",
    "\n",
    "        \n",
    "        BBB=['g_lek','g_lena',  'g_nav', 'g_kvhh', 'g_kva', 'g_kvsi', 'g_cav', 'g_kca', 'g_nap', 'g_kir', 'g_unav', 'g_kna', 'g_ampar', 'g_nmdar', 'g_gabar', 't_ca', 't_na', 'x_na', 'y_na']\n",
    "        dic={key:  val for key, val in zip(BBB,A)}\n",
    "        #new_params: pd.DataFrame=pd.DataFrame.from_dict(dic,orient='index').T\n",
    "        new_params=dic\n",
    "\n",
    "        mnnan1.set_params(new_params)\n",
    "        s,info=mnnan1.run_odeint()\n",
    "        fig=plt.figure()\n",
    "        plt.subplot(2,1,1)\n",
    "        plt.plot(kna(s[14999:,9]))\n",
    "        plt.title(\"{}\" .format(j))\n",
    "        plt.subplot(2,1,2)\n",
    "        plt.plot(kca(s[14999:,10]))\n",
    "        plt.title(\"{}\" .format(j))\n"
   ]
  },
  {
   "cell_type": "code",
   "execution_count": null,
   "metadata": {},
   "outputs": [],
   "source": []
  },
  {
   "cell_type": "code",
   "execution_count": null,
   "metadata": {},
   "outputs": [],
   "source": [
    "def kca(ca):\n",
    "    return 1/(1+(30/ca)**3.5)\n",
    "def kna(na):\n",
    "    return 1/(1+(32/na)**3.0)"
   ]
  },
  {
   "cell_type": "code",
   "execution_count": null,
   "metadata": {},
   "outputs": [],
   "source": [
    "plt.plot(kca(s[14999:,9]))"
   ]
  },
  {
   "cell_type": "code",
   "execution_count": null,
   "metadata": {},
   "outputs": [],
   "source": []
  }
 ],
 "metadata": {
  "kernelspec": {
   "display_name": "Python 3",
   "language": "python",
   "name": "python3"
  },
  "language_info": {
   "codemirror_mode": {
    "name": "ipython",
    "version": 3
   },
   "file_extension": ".py",
   "mimetype": "text/x-python",
   "name": "python",
   "nbconvert_exporter": "python",
   "pygments_lexer": "ipython3",
   "version": "3.8.5"
  }
 },
 "nbformat": 4,
 "nbformat_minor": 4
}
