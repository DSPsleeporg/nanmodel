{
 "cells": [
  {
   "cell_type": "code",
   "execution_count": 1,
   "metadata": {},
   "outputs": [
    {
     "name": "stdout",
     "output_type": "stream",
     "text": [
      "5.531291611185087\n",
      "4.681757656458056\n",
      "5.098368534531185\n",
      "5.17380219319849\n"
     ]
    },
    {
     "data": {
      "image/png": "[encoded data removed]",
      "text/plain": [
       "<Figure size 432x288 with 1 Axes>"
      ]
     },
     "metadata": {
      "needs_background": "light"
     },
     "output_type": "display_data"
    }
   ],
   "source": [
    "import pandas as pd\n",
    "import matplotlib.pyplot as plt\n",
    "N=2\n",
    "S=pd.read_csv(\"OD{}.csv\" .format(str(N)))\n",
    "A=pd.read_csv(\"OD1{}.csv\" .format(str(N)))\n",
    "A.head(5)\n",
    "\n",
    "ms=[]\n",
    "ma=[]\n",
    "ss=[]\n",
    "sa=[]\n",
    "for i in range(len(S[\"mean\"])):\n",
    "    if(S[\"mean\"][i]!=0 and A[\"mean\"][i]!=0 and S[\"mean\"][i]!=-1 and A[\"mean\"][i]!=-1):\n",
    "        ms.append(S[\"mean\"][i])\n",
    "        ma.append(A[\"mean\"][i])\n",
    "        ss.append(S[\"stdev\"][i])\n",
    "        sa.append(A[\"stdev\"][i])\n",
    "plt.scatter(ms,ma)\n",
    "plt.xlabel(\"sws_median ISI\")\n",
    "plt.ylabel(\"awake_median ISI\")\n",
    "\n",
    "import numpy as np\n",
    "print(np.mean(ms))\n",
    "print(np.mean(ma))\n",
    "print(np.std(ms))\n",
    "print(np.std(ma))"
   ]
  }
 ],
 "metadata": {
  "kernelspec": {
   "display_name": "Python 3",
   "language": "python",
   "name": "python3"
  },
  "language_info": {
   "codemirror_mode": {
    "name": "ipython",
    "version": 3
   },
   "file_extension": ".py",
   "mimetype": "text/x-python",
   "name": "python",
   "nbconvert_exporter": "python",
   "pygments_lexer": "ipython3",
   "version": "3.8.5"
  }
 },
 "nbformat": 4,
 "nbformat_minor": 4
}
