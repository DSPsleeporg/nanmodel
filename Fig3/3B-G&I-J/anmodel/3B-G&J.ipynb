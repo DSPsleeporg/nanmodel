{
 "cells": [
  {
   "cell_type": "code",
   "execution_count": null,
   "metadata": {},
   "outputs": [],
   "source": [
    "import os\n",
    "import sys\n",
    "import requests\n",
    "from datetime import datetime \n",
    "from multiprocessing import Pool\n",
    "import numpy as  np\n",
    "import pandas as pd\n",
    "from pathlib import Path\n",
    "import pickle\n",
    "from tqdm import tqdm\n",
    "from time import time\n",
    "from typing import Dict, List, Optional\n",
    "sys.path.append('../')\n",
    "sys.path.append('../anmodel')\n",
    "import matplotlib.pyplot as plt\n",
    "import anmodel\n",
    "import matplotlib\n",
    "import scipy\n",
    "matplotlib.rcParams['pdf.fonttype'] = 42\n",
    "matplotlib.rcParams['ps.fonttype'] = 42\n",
    "plt.rcParams['font.family'] = 'Arial'"
   ]
  },
  {
   "cell_type": "code",
   "execution_count": null,
   "metadata": {},
   "outputs": [],
   "source": [
    "S=pd.read_csv(\"A.csv\")\n",
    "anan1=anmodel.models.NAN10model()\n",
    "num=242\n",
    "\n",
    "A=[]\n",
    "A.append(S[\"g_kvhh\"][num])\n",
    "A.append(S[\"g_unav\"][num])\n",
    "A.append(S[\"g_kna\"][num])\n",
    "A.append(S[\"g_leak\"][num])\n",
    "A.append(S[\"t_na\"][num])\n",
    "A.append(S[\"x_na\"][num]-0.3)\n",
    "A.append(S[\"y_na\"][num])\n",
    "A.append(S[\"g_cav\"][num])\n",
    "\n",
    "\n",
    "BBB=['g_kvhh', 'g_unav', 'g_kna', 'g_leak',  't_na', 'x_na', 'y_na', 'g_cav']\n",
    "dic={key: val for key , val in zip(BBB,A)}\n",
    "new_params=dic\n",
    "anan1.set_params(new_params)\n",
    "s,info=anan1.run_odeint()\n",
    "t=[]\n",
    "for i in range(10*500*10):\n",
    "    t.append(0.001*0.1*i)\n",
    "C=[]\n",
    "D=[]\n",
    "for i in range(len(t)):\n",
    "    C.append(s[400000:,0][i])\n",
    "    D.append(s[400000:,3][i])\n",
    "fig=plt.figure()\n",
    "ax = fig.add_subplot(111)\n",
    "plt.plot(t,C, linewidth=1)\n",
    "Z=np.linspace(-80,60,5)\n",
    "ax.set_yticks(Z)\n",
    "#plt.savefig(\"Fig2I.pdf\")"
   ]
  },
  {
   "cell_type": "code",
   "execution_count": null,
   "metadata": {},
   "outputs": [],
   "source": [
    "S=pd.read_csv(\"A.csv\")\n",
    "anan1=anmodel.models.NAN10model()\n",
    "num=242\n",
    "\n",
    "A=[]\n",
    "A.append(S[\"g_kvhh\"][num])\n",
    "A.append(S[\"g_unav\"][num])\n",
    "A.append(S[\"g_kna\"][num])\n",
    "A.append(S[\"g_leak\"][num])\n",
    "A.append(S[\"t_na\"][num])\n",
    "A.append(S[\"x_na\"][num]+0.3)\n",
    "A.append(S[\"y_na\"][num])\n",
    "A.append(S[\"g_cav\"][num])\n",
    "\n",
    "\n",
    "BBB=['g_kvhh', 'g_unav', 'g_kna', 'g_leak',  't_na', 'x_na', 'y_na', 'g_cav']\n",
    "dic={key: val for key , val in zip(BBB,A)}\n",
    "new_params=dic\n",
    "anan1.set_params(new_params)\n",
    "s1,info=anan1.run_odeint()\n",
    "t=[]\n",
    "for i in range(10*500*10):\n",
    "    t.append(0.001*0.1*i)\n",
    "C1=[]\n",
    "D1=[]\n",
    "for i in range(len(t)):\n",
    "    C1.append(s1[400000:,0][i])\n",
    "    D1.append(s1[400000:,3][i])\n",
    "fig=plt.figure()\n",
    "ax = fig.add_subplot(111)\n",
    "plt.plot(t,C1, linewidth=1)\n",
    "Z=np.linspace(-80,60,5)\n",
    "ax.set_yticks(Z)\n",
    "#plt.savefig(\"Fig2I.pdf\")"
   ]
  },
  {
   "cell_type": "code",
   "execution_count": null,
   "metadata": {},
   "outputs": [],
   "source": [
    "plt.plot(s1[200000:,0])"
   ]
  },
  {
   "cell_type": "code",
   "execution_count": null,
   "metadata": {},
   "outputs": [],
   "source": [
    "fig=plt.figure()\n",
    "ax = fig.add_subplot(111)\n",
    "plt.plot(t,C, linewidth=1)\n",
    "Z=np.linspace(-80,30,5)\n",
    "ax.set_yticks(Z)\n",
    "plt.savefig(\"Fig3B.pdf\")"
   ]
  },
  {
   "cell_type": "code",
   "execution_count": null,
   "metadata": {},
   "outputs": [],
   "source": [
    "fig=plt.figure()\n",
    "ax = fig.add_subplot(111)\n",
    "plt.plot(t,C1, linewidth=1)\n",
    "Z=np.linspace(-80,30,5)\n",
    "ax.set_yticks(Z)\n",
    "plt.savefig(\"Fig3C.pdf\")"
   ]
  },
  {
   "cell_type": "code",
   "execution_count": null,
   "metadata": {},
   "outputs": [],
   "source": [
    "fig=plt.figure()\n",
    "ax = fig.add_subplot(111)\n",
    "plt.plot(t,D, linewidth=1)\n",
    "Z=np.linspace(6.2,8.2,5)\n",
    "ax.set_yticks(Z)\n",
    "#plt.ylim(9.0)\n",
    "plt.savefig(\"Fig3D.pdf\")"
   ]
  },
  {
   "cell_type": "code",
   "execution_count": null,
   "metadata": {},
   "outputs": [],
   "source": [
    "fig=plt.figure()\n",
    "ax = fig.add_subplot(111)\n",
    "plt.plot(t,D1, linewidth=1)\n",
    "Z=np.linspace(6.2,8.2,5)\n",
    "ax.set_yticks(Z)\n",
    "#plt.ylim(9.0)\n",
    "plt.savefig(\"Fig3E.pdf\")"
   ]
  },
  {
   "cell_type": "code",
   "execution_count": null,
   "metadata": {},
   "outputs": [],
   "source": [
    "t=[]\n",
    "for i in range(20*10):\n",
    "    t.append(0.001*0.1*i)\n",
    "C00=[]\n",
    "D00=[]\n",
    "for i in range(len(t)):\n",
    "    C00.append(s[405000:,0][i])\n",
    "    D00.append(s[405000:,3][i])\n",
    "fig=plt.figure()\n",
    "ax = fig.add_subplot(111)\n",
    "plt.plot(t,C00, linewidth=1)\n",
    "Z=np.linspace(-80,30,5)\n",
    "ax.set_yticks(Z)\n",
    "Z=np.linspace(0,0.02,5)\n",
    "ax.set_xticks(Z)\n",
    "plt.savefig(\"Fig3F.pdf\")"
   ]
  },
  {
   "cell_type": "code",
   "execution_count": null,
   "metadata": {},
   "outputs": [],
   "source": [
    "t=[]\n",
    "for i in range(20*10):\n",
    "    t.append(0.001*0.1*i)\n",
    "C10=[]\n",
    "D10=[]\n",
    "for i in range(len(t)):\n",
    "    C10.append(s1[415000:,0][i])\n",
    "    D10.append(s1[415000:,3][i])\n",
    "fig=plt.figure()\n",
    "ax = fig.add_subplot(111)\n",
    "plt.plot(t,C10, linewidth=1)\n",
    "Z=np.linspace(-80,30,5)\n",
    "ax.set_yticks(Z)\n",
    "Z=np.linspace(0,0.02,5)\n",
    "ax.set_xticks(Z)\n",
    "plt.savefig(\"Fig3G.pdf\")"
   ]
  },
  {
   "cell_type": "code",
   "execution_count": null,
   "metadata": {},
   "outputs": [],
   "source": [
    "S=pd.read_csv(\"A.csv\")\n",
    "anan1=anmodel.models.NAN10model()\n",
    "num=242\n",
    "\n",
    "A=[]\n",
    "A.append(S[\"g_kvhh\"][num])\n",
    "A.append(S[\"g_unav\"][num])\n",
    "A.append(S[\"g_kna\"][num])\n",
    "A.append(S[\"g_leak\"][num])\n",
    "A.append(S[\"t_na\"][num])\n",
    "A.append(S[\"x_na\"][num])\n",
    "A.append(S[\"y_na\"][num])\n",
    "A.append(S[\"g_cav\"][num])\n",
    "\n",
    "\n",
    "BBB=['g_kvhh', 'g_unav', 'g_kna', 'g_leak',  't_na', 'x_na', 'y_na', 'g_cav']\n",
    "dic={key: val for key , val in zip(BBB,A)}\n",
    "new_params=dic\n",
    "anan1.set_params(new_params)\n",
    "s,info=anan1.run_odeint()"
   ]
  },
  {
   "cell_type": "code",
   "execution_count": null,
   "metadata": {},
   "outputs": [],
   "source": [
    "S=pd.read_csv(\"A.csv\")\n",
    "anan1=anmodel.models.NAN10model()\n",
    "num=242\n",
    "\n",
    "A=[]\n",
    "A.append(S[\"g_kvhh\"][num])\n",
    "A.append(S[\"g_unav\"][num])\n",
    "A.append(S[\"g_kna\"][num])\n",
    "A.append(S[\"g_leak\"][num])\n",
    "A.append(S[\"t_na\"][num])\n",
    "A.append(S[\"x_na\"][num]-7.2)\n",
    "A.append(S[\"y_na\"][num])\n",
    "A.append(S[\"g_cav\"][num])\n",
    "\n",
    "\n",
    "BBB=['g_kvhh', 'g_unav', 'g_kna', 'g_leak',  't_na', 'x_na', 'y_na', 'g_cav']\n",
    "dic={key: val for key , val in zip(BBB,A)}\n",
    "new_params=dic\n",
    "anan1.set_params(new_params)\n",
    "sd,info=anan1.run_odeint()"
   ]
  },
  {
   "cell_type": "code",
   "execution_count": null,
   "metadata": {},
   "outputs": [],
   "source": [
    "fig=plt.figure()\n",
    "ax = fig.add_subplot(111)\n",
    "plt.plot(s[400000:,0])\n",
    "Z=np.linspace(-80,60,5)\n",
    "ax.set_yticks(Z)"
   ]
  },
  {
   "cell_type": "code",
   "execution_count": null,
   "metadata": {},
   "outputs": [],
   "source": [
    "fig=plt.figure()\n",
    "ax = fig.add_subplot(111)\n",
    "plt.plot(sd[400000:,0])\n",
    "Z=np.linspace(-80,60,5)\n",
    "ax.set_yticks(Z)"
   ]
  },
  {
   "cell_type": "code",
   "execution_count": null,
   "metadata": {},
   "outputs": [],
   "source": [
    "t=[]\n",
    "for i in range(100*10):\n",
    "    t.append(0.001*0.1*i)\n",
    "C11=[]\n",
    "D11=[]\n",
    "for i in range(len(t)):\n",
    "    C11.append(s[405500:,0][i])\n",
    "    D11.append(s[405500:,3][i])\n",
    "fig=plt.figure()\n",
    "ax = fig.add_subplot(111)\n",
    "plt.plot(t,C11, linewidth=1)\n",
    "Z=np.linspace(-80,30,5)\n",
    "ax.set_yticks(Z)\n",
    "Z=np.linspace(0,0.1,5)\n",
    "ax.set_xticks(Z)\n",
    "plt.savefig(\"Fig3J.pdf\")"
   ]
  },
  {
   "cell_type": "code",
   "execution_count": null,
   "metadata": {},
   "outputs": [],
   "source": [
    "t=[]\n",
    "for i in range(100*10):\n",
    "    t.append(0.001*0.1*i)\n",
    "C12=[]\n",
    "D12=[]\n",
    "for i in range(len(t)):\n",
    "    C12.append(sd[405000:,0][i])\n",
    "    D12.append(sd[405000:,3][i])\n",
    "fig=plt.figure()\n",
    "ax = fig.add_subplot(111)\n",
    "plt.plot(t,C12, linewidth=1)\n",
    "Z=np.linspace(-80,30,5)\n",
    "ax.set_yticks(Z)\n",
    "Z=np.linspace(0,0.1,5)\n",
    "ax.set_xticks(Z)\n",
    "plt.savefig(\"Fig3J2.pdf\")"
   ]
  }
 ],
 "metadata": {
  "kernelspec": {
   "display_name": "Python 3",
   "language": "python",
   "name": "python3"
  },
  "language_info": {
   "codemirror_mode": {
    "name": "ipython",
    "version": 3
   },
   "file_extension": ".py",
   "mimetype": "text/x-python",
   "name": "python",
   "nbconvert_exporter": "python",
   "pygments_lexer": "ipython3",
   "version": "3.8.5"
  }
 },
 "nbformat": 4,
 "nbformat_minor": 4
}
