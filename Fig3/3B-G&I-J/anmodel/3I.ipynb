{
 "cells": [
  {
   "cell_type": "code",
   "execution_count": null,
   "metadata": {},
   "outputs": [],
   "source": [
    "import os\n",
    "import sys\n",
    "import requests\n",
    "from datetime import datetime\n",
    "from multiprocessing import Pool\n",
    "import numpy as np\n",
    "import pandas as pd\n",
    "from pathlib import Path\n",
    "import pickle\n",
    "from time import time\n",
    "from typing import Dict, List, Optional\n",
    "import warnings\n",
    "warnings.filterwarnings('ignore')\n",
    "sys.path.append('../')\n",
    "sys.path.append('../anmodel')\n",
    "import matplotlib.pyplot as plt\n",
    "from PIL import Image\n",
    "import matplotlib.pyplot as plt\n",
    "import anmodel\n",
    "from tqdm import tqdm\n",
    "from scipy.signal import argrelmax\n",
    "from scipy.signal import argrelmin\n",
    "import statistics\n",
    "import seaborn as sns\n",
    "anan1=anmodel.models.NAN10dmodel()\n",
    "from scipy.signal import periodogram\n",
    "from scipy import signal\n",
    "import matplotlib\n",
    "matplotlib.rcParams['pdf.fonttype'] = 42\n",
    "matplotlib.rcParams['ps.fonttype'] = 42\n",
    "plt.rcParams['font.family'] = 'Arial'"
   ]
  },
  {
   "cell_type": "code",
   "execution_count": null,
   "metadata": {},
   "outputs": [],
   "source": [
    "S=pd.read_csv(\"A.csv\")\n",
    "anan1=anmodel.models.NAN10model()\n",
    "num=242\n",
    "X=np.linspace(21,33,20)\n",
    "Y=[]\n",
    "\n",
    "for i in tqdm(range(20)):\n",
    "    A=[]\n",
    "    A.append(S[\"g_kvhh\"][num])\n",
    "    A.append(S[\"g_unav\"][num])\n",
    "    A.append(S[\"g_kna\"][num])\n",
    "    A.append(S[\"g_leak\"][num])\n",
    "    A.append(S[\"t_na\"][num])\n",
    "    A.append(X[i])\n",
    "    A.append(S[\"y_na\"][num])\n",
    "    A.append(S[\"g_cav\"][num])\n",
    "\n",
    "\n",
    "    BBB=['g_kvhh', 'g_unav', 'g_kna', 'g_leak',  't_na', 'x_na', 'y_na', 'g_cav']\n",
    "    dic={key: val for key , val in zip(BBB,A)}\n",
    "    new_params=dic\n",
    "    anan1.set_params(new_params)\n",
    "    s,info=anan1.run_odeint()\n",
    "\n",
    "    CCC=[]\n",
    "    ss=signal.argrelmax(s[9999:,0])\n",
    "    for k in range(len(ss[0])-1):\n",
    "        if(ss[0][k+1]-ss[0][k]>1000):\n",
    "            continue\n",
    "        CCC.append(ss[0][k+1]-ss[0][k])\n",
    "    Y.append(statistics.mean(CCC))\n",
    "    \n"
   ]
  },
  {
   "cell_type": "code",
   "execution_count": null,
   "metadata": {},
   "outputs": [],
   "source": [
    "y=[]\n",
    "for i in range(len(Y)):\n",
    "    y.append(Y[i]/10)\n",
    "fig=plt.figure(figsize=(5,5))\n",
    "ax = fig.add_subplot(111)\n",
    "Z=np.linspace(21,33,3)\n",
    "ax.set_xticks(Z)\n",
    "Z=np.linspace(5,50,3)\n",
    "ax.set_yticks(Z)\n",
    "plt.scatter(X,y)\n",
    "plt.savefig(\"5I.pdf\")"
   ]
  }
 ],
 "metadata": {
  "kernelspec": {
   "display_name": "Python 3",
   "language": "python",
   "name": "python3"
  },
  "language_info": {
   "codemirror_mode": {
    "name": "ipython",
    "version": 3
   },
   "file_extension": ".py",
   "mimetype": "text/x-python",
   "name": "python",
   "nbconvert_exporter": "python",
   "pygments_lexer": "ipython3",
   "version": "3.8.5"
  }
 },
 "nbformat": 4,
 "nbformat_minor": 4
}
