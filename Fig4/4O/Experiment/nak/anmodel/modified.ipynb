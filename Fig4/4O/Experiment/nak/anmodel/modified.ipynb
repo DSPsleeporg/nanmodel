{
 "cells": [
  {
   "cell_type": "code",
   "execution_count": 1,
   "metadata": {},
   "outputs": [],
   "source": [
    "import os\n",
    "import sys\n",
    "import requests\n",
    "from datetime import datetime\n",
    "from multiprocessing import Pool\n",
    "import numpy as np\n",
    "import pandas as pd\n",
    "from pathlib import Path\n",
    "import pickle\n",
    "from time import time\n",
    "from typing import Dict, List, Optional\n",
    "import warnings\n",
    "warnings.filterwarnings('ignore')\n",
    "sys.path.append('../')\n",
    "sys.path.append('../anmodel')\n",
    "import matplotlib.pyplot as plt\n",
    "from PIL import Image\n",
    "import matplotlib.pyplot as plt\n",
    "import anmodel\n",
    "from tqdm import tqdm\n",
    "from scipy.signal import argrelmax\n",
    "from scipy.signal import argrelmin\n",
    "import statistics\n",
    "import seaborn as sns\n",
    "anan1=anmodel.models.NAN20dmodel()\n",
    "from scipy.signal import periodogram\n",
    "from scipy import signal"
   ]
  },
  {
   "cell_type": "code",
   "execution_count": 2,
   "metadata": {},
   "outputs": [],
   "source": [
    "Model=\"NAN2.0d\"\n",
    "if(Model==\"NAN2.0d\"):\n",
    "    mnnan1=anmodel.models.NAN20dmodel()\n",
    "S=pd.read_csv(\"A.csv\")"
   ]
  },
  {
   "cell_type": "code",
   "execution_count": 3,
   "metadata": {},
   "outputs": [],
   "source": [
    "N=2\n",
    "aaa1=10**-1.44\n",
    "A=[0,0,0]\n",
    "BBB=['mean', 'median', 'stdev']\n",
    "dic={key:  val for key, val in zip(BBB,A)}\n",
    "new_params: pd.DataFrame=pd.DataFrame.from_dict(dic,orient='index').T\n",
    "new_params.to_csv(\"OD1{}.csv\" .format(str(N)))"
   ]
  },
  {
   "cell_type": "code",
   "execution_count": 4,
   "metadata": {},
   "outputs": [
    {
     "name": "stderr",
     "output_type": "stream",
     "text": [
      "100%|██████████| 1049/1049 [19:29:18<00:00, 95.36s/it]   \n"
     ]
    }
   ],
   "source": [
    "x=len(S[\"g_kvhh\"])\n",
    "DD=pd.read_csv(\"NAN{}.csv\" .format(N))\n",
    "for j in tqdm(range(x)):\n",
    "    if j==0:\n",
    "        continue   \n",
    "\n",
    "    if(DD[\"ans\"][j]==0):\n",
    "        A=[-1,-1,-1]\n",
    "        BBB=['mean', 'median', 'stdev']\n",
    "        dic={key:  val for key, val in zip(BBB,A)}\n",
    "        new_params=dic\n",
    "        T=pd.read_csv(\"OD1{}.csv\" .format(str(N)))\n",
    "        Nn: pd.DataFrame=pd.DataFrame.from_dict(new_params, orient=\"index\").T\n",
    "        T=pd.concat([T,Nn])\n",
    "        T.to_csv(\"OD1{}.csv\" .format(str(N)))\n",
    "        continue \n",
    "        \n",
    "    A=[]\n",
    "    c=j\n",
    "    A.append(S['g_kvhh'][c])\n",
    "    A.append(S['g_unav'][c])\n",
    "    A.append(S['g_nak'][c])\n",
    "    A.append(S['g_leak'][c]*0.6095)\n",
    "    A.append(S['g_leak'][c]*0.3905)\n",
    "    A.append(S['g_cav'][c])\n",
    "    A.append(S['x_na'][c])\n",
    "    A.append(S['y_na'][c])\n",
    "\n",
    "    BBB=['g_kvhh', 'g_unav', 'g_nak', 'g_lek','g_lena', 'g_cav', 'x_na', 'y_na']\n",
    "    \n",
    "    A[N]=A[N]*aaa1\n",
    "    dic={key:  val for key, val in zip(BBB,A)}\n",
    "    #new_params: pd.DataFrame=pd.DataFrame.from_dict(dic,orient='index').T\n",
    "    new_params=dic\n",
    "\n",
    "    mnnan1.set_params(new_params)\n",
    "    s,info=mnnan1.run_odeint()\n",
    "    X=s[9999:,3]\n",
    "        \n",
    "    CCC=[]\n",
    "    ss=signal.argrelmax(s[9999:,0])\n",
    "    for k in range(len(ss[0])-1):\n",
    "        if(ss[0][k+1]-ss[0][k]>80):\n",
    "            continue\n",
    "        CCC.append(ss[0][k+1]-ss[0][k])\n",
    "    if(len(CCC)<3):\n",
    "        A=[0,0,0]\n",
    "        BBB=['mean', 'median', 'stdev']\n",
    "        dic={key:  val for key, val in zip(BBB,A)}\n",
    "        new_params=dic\n",
    "        T=pd.read_csv(\"OD1{}.csv\" .format(str(N)))\n",
    "        Nn: pd.DataFrame=pd.DataFrame.from_dict(new_params, orient=\"index\").T\n",
    "        T=pd.concat([T,Nn])\n",
    "        T.to_csv(\"OD1{}.csv\" .format(str(N)))\n",
    "        continue \n",
    "            \n",
    "    A=[statistics.mean(CCC),statistics.median(CCC),statistics.stdev(CCC)]\n",
    "    BBB=['mean', 'median', 'stdev']\n",
    "    dic={key:  val for key, val in zip(BBB,A)}\n",
    "    new_params=dic\n",
    "    T=pd.read_csv(\"OD1{}.csv\" .format(str(N)))\n",
    "    Nn: pd.DataFrame=pd.DataFrame.from_dict(new_params, orient=\"index\").T\n",
    "    T=pd.concat([T,Nn])\n",
    "    T.to_csv(\"OD1{}.csv\" .format(str(N)))\n",
    "    continue    \n",
    "        \n",
    "    \n",
    "    \n",
    "        \n"
   ]
  }
 ],
 "metadata": {
  "kernelspec": {
   "display_name": "Python 3",
   "language": "python",
   "name": "python3"
  },
  "language_info": {
   "codemirror_mode": {
    "name": "ipython",
    "version": 3
   },
   "file_extension": ".py",
   "mimetype": "text/x-python",
   "name": "python",
   "nbconvert_exporter": "python",
   "pygments_lexer": "ipython3",
   "version": "3.8.5"
  }
 },
 "nbformat": 4,
 "nbformat_minor": 4
}
