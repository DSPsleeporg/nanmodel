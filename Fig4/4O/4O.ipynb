{
 "cells": [
  {
   "cell_type": "code",
   "execution_count": 1,
   "metadata": {},
   "outputs": [],
   "source": [
    "import matplotlib\n",
    "import matplotlib.pyplot as plt\n",
    "matplotlib.rcParams['pdf.fonttype'] = 42\n",
    "matplotlib.rcParams['ps.fonttype'] = 42\n",
    "plt.rcParams['font.family'] = 'Arial'\n",
    "import numpy as np"
   ]
  },
  {
   "cell_type": "code",
   "execution_count": 7,
   "metadata": {},
   "outputs": [
    {
     "data": {
      "image/png": "[encoded data removed]",
      "text/plain": [
       "<Figure size 288x288 with 1 Axes>"
      ]
     },
     "metadata": {
      "needs_background": "light"
     },
     "output_type": "display_data"
    }
   ],
   "source": [
    "H1=np.linspace(0,68,100)\n",
    "\n",
    "fig = plt.figure(figsize = (4, 4))\n",
    "ax = fig.add_subplot(111)\n",
    "plt.errorbar(19.694045174537987,6.518480492813142, label=\"gNaK\", yerr=4.5791204726462, xerr=14.636065040109957, capsize=5, fmt='o', markersize=3,color=\"purple\")\n",
    "plt.errorbar(9.637010676156583, 47.95729537366548, label=\"gK\",yerr=20.345895696394276, xerr=6.764722993954696, capsize=5, fmt='o', markersize=3,color=\"yellow\")\n",
    "plt.errorbar(12.148484848484848, 40.75454545454546, label=\"gCa\",yerr=20.774191315028087, xerr=9.353612856104942, capsize=5, fmt='o', markersize=3,color=\"gray\")\n",
    "plt.errorbar(10.634615384615385, 38.13461538461539, label=\"gUNaV\",yerr=21.541399181534725, xerr=8.216842099178994, capsize=5, fmt='o', markersize=3,color=\"green\")\n",
    "\n",
    "plt.errorbar(7.725631768953068, 47.87364620938628, label=\"x\",yerr=18.841786422365143, xerr=5.565866841592683, capsize=5, fmt='o', markersize=3,color=\"blue\")\n",
    "plt.errorbar(12.33879781420765, 38.13661202185792, label=\"y\",yerr=19.639592093336418, xerr=9.049045034758535, capsize=5, fmt='o', markersize=3,color=\"pink\")\n",
    "\n",
    "plt.errorbar(22.37330754352031, 27.783365570599614, label=\"lek\",yerr=17.60976830995195, xerr=14.658521306523777, capsize=5, fmt='o', markersize=3,color=\"red\")\n",
    "plt.errorbar(21.050980392156863, 20.762091503267975, label=\"lena\",yerr=15.021409586067863, xerr=14.572021350120707, capsize=5, fmt='o', markersize=3,color=\"brown\")\n",
    "plt.plot(H1,H1, color=\"black\")\n",
    "Z=np.linspace(0,68,3)\n",
    "ax.set_xticks(Z)\n",
    "Z=np.linspace(0,68,3)\n",
    "ax.set_yticks(Z)\n",
    "\n",
    "plt.savefig(\"Fig4O.pdf\")"
   ]
  },
  {
   "cell_type": "code",
   "execution_count": null,
   "metadata": {},
   "outputs": [],
   "source": []
  }
 ],
 "metadata": {
  "kernelspec": {
   "display_name": "Python 3",
   "language": "python",
   "name": "python3"
  },
  "language_info": {
   "codemirror_mode": {
    "name": "ipython",
    "version": 3
   },
   "file_extension": ".py",
   "mimetype": "text/x-python",
   "name": "python",
   "nbconvert_exporter": "python",
   "pygments_lexer": "ipython3",
   "version": "3.8.5"
  }
 },
 "nbformat": 4,
 "nbformat_minor": 4
}
