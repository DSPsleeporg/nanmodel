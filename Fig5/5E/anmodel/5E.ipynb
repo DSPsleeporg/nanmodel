{
 "cells": [
  {
   "cell_type": "code",
   "execution_count": null,
   "metadata": {},
   "outputs": [],
   "source": [
    "import matplotlib\n",
    "import matplotlib.pyplot as plt\n",
    "matplotlib.rcParams['pdf.fonttype'] = 42\n",
    "matplotlib.rcParams['ps.fonttype'] = 42\n",
    "plt.rcParams['font.family'] = 'Arial'\n",
    "import numpy as np"
   ]
  },
  {
   "cell_type": "code",
   "execution_count": null,
   "metadata": {},
   "outputs": [],
   "source": [
    "#Copy the data from the output in ISI.ipynb. Mean: mean ISI, Std: standard deviation of ISI.\n",
    "Std_norm=\n",
    "Std_kna=\n",
    "Std_unav=\n",
    "Std_xup=\n",
    "Std_xdown=\n",
    "Std_y=\n",
    "\n",
    "Mean_norm=\n",
    "Mean_kna=\n",
    "Mean_unav=\n",
    "Mean_xup=\n",
    "Mean_xdown=\n",
    "Mean_y=\n",
    "\n",
    "#Run\n",
    "\n",
    "H1=np.linspace(0,40,100)\n",
    "fig = plt.figure(figsize = (4, 4))\n",
    "ax = fig.add_subplot(111)\n",
    "plt.errorbar(Mean_norm,Mean_kna, label=\"gKNa\", yerr=Std_kna, xerr=Std_norm, capsize=5, fmt='o', markersize=3,color=\"purple\")\n",
    "\n",
    "plt.errorbar(Mean_norm,Mean_unav , label=\"gUNaV\",yerr=Std_unav, xerr=Std_norm, capsize=5, fmt='o', markersize=3,color=\"green\")\n",
    "\n",
    "plt.errorbar(Mean_norm,Mean_xup , label=\"x up\",yerr=Std_xup, xerr=Std_norm, capsize=5, fmt='o', markersize=3,color=\"blue\")\n",
    "plt.errorbar(Mean_norm,Mean_xdown , label=\"x down\",yerr=Std_xdown, xerr=Std_norm, capsize=5, fmt='o', markersize=3)\n",
    "plt.errorbar(Mean_norm, Mean_y, label=\"y\",yerr=Std_y, xerr=Std_norm, capsize=5, fmt='o', markersize=3,color=\"pink\")\n",
    "\n",
    "\n",
    "plt.plot(H1,H1, color=\"black\")\n",
    "Z=np.linspace(0,40,3)\n",
    "ax.set_xticks(Z)\n",
    "Z=np.linspace(0,40,3)\n",
    "ax.set_yticks(Z)\n",
    "\n",
    "plt.savefig(\"Fig5E.pdf\")"
   ]
  }
 ],
 "metadata": {
  "kernelspec": {
   "display_name": "Python 3",
   "language": "python",
   "name": "python3"
  },
  "language_info": {
   "codemirror_mode": {
    "name": "ipython",
    "version": 3
   },
   "file_extension": ".py",
   "mimetype": "text/x-python",
   "name": "python",
   "nbconvert_exporter": "python",
   "pygments_lexer": "ipython3",
   "version": "3.8.5"
  }
 },
 "nbformat": 4,
 "nbformat_minor": 4
}
