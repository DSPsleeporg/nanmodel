{
 "cells": [
  {
   "cell_type": "code",
   "execution_count": 1,
   "metadata": {},
   "outputs": [],
   "source": [
    "import os\n",
    "import sys\n",
    "import requests\n",
    "from datetime import datetime\n",
    "from multiprocessing import Pool\n",
    "import numpy as np\n",
    "import pandas as pd\n",
    "from pathlib import Path\n",
    "import pickle\n",
    "from time import time\n",
    "from typing import Dict, List, Optional\n",
    "import warnings\n",
    "warnings.filterwarnings('ignore')\n",
    "sys.path.append('../')\n",
    "sys.path.append('../anmodel')\n",
    "import matplotlib.pyplot as plt\n",
    "from PIL import Image\n",
    "import matplotlib.pyplot as plt\n",
    "import anmodel\n",
    "from tqdm import tqdm\n",
    "from scipy.signal import argrelmax\n",
    "from scipy.signal import argrelmin\n",
    "import statistics\n",
    "import seaborn as sns\n",
    "anan1=anmodel.models.FNANdmodel()\n",
    "from scipy.signal import periodogram\n",
    "from scipy import signal"
   ]
  },
  {
   "cell_type": "code",
   "execution_count": 2,
   "metadata": {},
   "outputs": [],
   "source": [
    "Model=\"FNANd\"\n",
    "if(Model==\"FNANd\"):\n",
    "    mnnan1=anmodel.models.FNANdmodel()\n",
    "S=pd.read_csv(\"A.csv\")"
   ]
  },
  {
   "cell_type": "code",
   "execution_count": 3,
   "metadata": {},
   "outputs": [],
   "source": [
    "N=10\n",
    "A=[0,0,0]\n",
    "BBB=['mean', 'median', 'stdev']\n",
    "dic={key:  val for key, val in zip(BBB,A)}\n",
    "new_params: pd.DataFrame=pd.DataFrame.from_dict(dic,orient='index').T\n",
    "new_params.to_csv(\"ODa{}.csv\" .format(str(N)))"
   ]
  },
  {
   "cell_type": "code",
   "execution_count": 4,
   "metadata": {},
   "outputs": [
    {
     "name": "stderr",
     "output_type": "stream",
     "text": [
      "100%|██████████| 1704/1704 [6:02:14<00:00, 18.79s/it]    \n"
     ]
    }
   ],
   "source": [
    "x=len(S[\"g_kvhh\"])\n",
    "DD=pd.read_csv(\"ANS{}.csv\" .format(N))\n",
    "for j in tqdm(range(x)):\n",
    "    if j==0:\n",
    "        continue   \n",
    "    if(DD[\"good\"][j]==0):\n",
    "        A=[-1,-1,-1]\n",
    "        BBB=['mean', 'median', 'stdev']\n",
    "        dic={key:  val for key, val in zip(BBB,A)}\n",
    "        new_params=dic\n",
    "        T=pd.read_csv(\"ODa{}.csv\" .format(str(N)))\n",
    "        Nn: pd.DataFrame=pd.DataFrame.from_dict(new_params, orient=\"index\").T\n",
    "        T=pd.concat([T,Nn])\n",
    "        T.to_csv(\"ODa{}.csv\" .format(str(N)))\n",
    "        continue \n",
    "        \n",
    "    A=[]\n",
    "    c=j\n",
    "    A.append(S['g_leak'][c]*0.6095)\n",
    "    A.append(S['g_leak'][c]*0.3905)\n",
    "    A.append(S['g_nav'][c])\n",
    "    A.append(S['g_kvhh'][c])\n",
    "    A.append(S['g_kva'][c])\n",
    "    A.append(S['g_kvsi'][c])\n",
    "    A.append(S['g_cav'][c])\n",
    "    A.append(S['g_kca'][c])\n",
    "    A.append(S['g_nap'][c])\n",
    "    A.append(S['g_kir'][c])\n",
    "    A.append(S['g_unav'][c])\n",
    "    A.append(S['g_kna'][c])\n",
    "    A.append(S['g_ampar'][c])\n",
    "    A.append(S['g_nmdar'][c])\n",
    "    A.append(S['g_gabar'][c])\n",
    "    A.append(S['t_ca'][c])\n",
    "    A.append(S['t_na'][c])\n",
    "    A.append(S['x_na'][c])\n",
    "    A.append(S['y_na'][c])\n",
    "\n",
    "        \n",
    "    BBB=['g_lek', 'g_lena',  'g_nav', 'g_kvhh', 'g_kva', 'g_kvsi', 'g_cav', 'g_kca', 'g_nap', 'g_kir', 'g_unav', 'g_kna', 'g_ampar', 'g_nmdar', 'g_gabar', 't_ca', 't_na', 'x_na', 'y_na']\n",
    "    \n",
    "    A[N]=A[N]*10**(-0.72)\n",
    "    dic={key:  val for key, val in zip(BBB,A)}\n",
    "    #new_params: pd.DataFrame=pd.DataFrame.from_dict(dic,orient='index').T\n",
    "    new_params=dic\n",
    "\n",
    "    mnnan1.set_params(new_params)\n",
    "    s,info=mnnan1.run_odeint()\n",
    "    X=s[9999:,10]\n",
    "        \n",
    "    CCC=[]\n",
    "    ss=signal.argrelmax(s[9999:,0])\n",
    "    for k in range(len(ss[0])-1):\n",
    "        if(ss[0][k+1]-ss[0][k]>80):\n",
    "            continue\n",
    "        CCC.append(ss[0][k+1]-ss[0][k])\n",
    "    if(len(CCC)<3):\n",
    "        A=[0,0,0]\n",
    "        BBB=['mean', 'median', 'stdev']\n",
    "        dic={key:  val for key, val in zip(BBB,A)}\n",
    "        new_params=dic\n",
    "        T=pd.read_csv(\"ODa{}.csv\" .format(str(N)))\n",
    "        Nn: pd.DataFrame=pd.DataFrame.from_dict(new_params, orient=\"index\").T\n",
    "        T=pd.concat([T,Nn])\n",
    "        T.to_csv(\"ODa{}.csv\" .format(str(N)))\n",
    "        continue \n",
    "            \n",
    "    A=[statistics.mean(CCC),statistics.median(CCC),statistics.stdev(CCC)]\n",
    "    BBB=['mean', 'median', 'stdev']\n",
    "    dic={key:  val for key, val in zip(BBB,A)}\n",
    "    new_params=dic\n",
    "    T=pd.read_csv(\"ODa{}.csv\" .format(str(N)))\n",
    "    Nn: pd.DataFrame=pd.DataFrame.from_dict(new_params, orient=\"index\").T\n",
    "    T=pd.concat([T,Nn])\n",
    "    T.to_csv(\"ODa{}.csv\" .format(str(N)))\n",
    "    continue    "
   ]
  }
 ],
 "metadata": {
  "kernelspec": {
   "display_name": "Python 3",
   "language": "python",
   "name": "python3"
  },
  "language_info": {
   "codemirror_mode": {
    "name": "ipython",
    "version": 3
   },
   "file_extension": ".py",
   "mimetype": "text/x-python",
   "name": "python",
   "nbconvert_exporter": "python",
   "pygments_lexer": "ipython3",
   "version": "3.8.5"
  }
 },
 "nbformat": 4,
 "nbformat_minor": 4
}
