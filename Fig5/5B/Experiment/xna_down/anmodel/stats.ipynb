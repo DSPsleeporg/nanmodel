{
 "cells": [
  {
   "cell_type": "code",
   "execution_count": 2,
   "metadata": {},
   "outputs": [
    {
     "name": "stdout",
     "output_type": "stream",
     "text": [
      "4.267441860465116\n",
      "20.732558139534884\n",
      "3.134297957833662\n",
      "17.716386068168283\n"
     ]
    },
    {
     "data": {
      "image/png": "[encoded data removed]",
      "text/plain": [
       "<Figure size 432x288 with 1 Axes>"
      ]
     },
     "metadata": {
      "needs_background": "light"
     },
     "output_type": "display_data"
    }
   ],
   "source": [
    "import pandas as pd\n",
    "import matplotlib.pyplot as plt\n",
    "N=17\n",
    "S=pd.read_csv(\"OD{}.csv\" .format(str(N)))\n",
    "A=pd.read_csv(\"ODa{}.csv\" .format(str(N)))\n",
    "ms=[]\n",
    "ma=[]\n",
    "ss=[]\n",
    "sa=[]\n",
    "for i in range(len(S[\"mean\"])):\n",
    "    if(S[\"mean\"][i]!=0 and A[\"mean\"][i]!=0 and S[\"mean\"][i]!=-1 and A[\"mean\"][i]!=-1):\n",
    "        ms.append(S[\"mean\"][i])\n",
    "        ma.append(A[\"mean\"][i])\n",
    "        ss.append(S[\"stdev\"][i])\n",
    "        sa.append(A[\"stdev\"][i])\n",
    "plt.scatter(ms,ma)\n",
    "plt.xlabel(\"sws_median ISI\")\n",
    "plt.ylabel(\"awake_median ISI\")\n",
    "\n",
    "import numpy as np\n",
    "print(np.mean(ms))\n",
    "print(np.mean(ma))\n",
    "print(np.std(ms))\n",
    "print(np.std(ma))"
   ]
  }
 ],
 "metadata": {
  "kernelspec": {
   "display_name": "Python 3",
   "language": "python",
   "name": "python3"
  },
  "language_info": {
   "codemirror_mode": {
    "name": "ipython",
    "version": 3
   },
   "file_extension": ".py",
   "mimetype": "text/x-python",
   "name": "python",
   "nbconvert_exporter": "python",
   "pygments_lexer": "ipython3",
   "version": "3.8.5"
  }
 },
 "nbformat": 4,
 "nbformat_minor": 4
}
