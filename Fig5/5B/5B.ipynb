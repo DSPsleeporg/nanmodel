{
 "cells": [
  {
   "cell_type": "code",
   "execution_count": 1,
   "metadata": {},
   "outputs": [],
   "source": [
    "import matplotlib\n",
    "import matplotlib.pyplot as plt\n",
    "matplotlib.rcParams['pdf.fonttype'] = 42\n",
    "matplotlib.rcParams['ps.fonttype'] = 42\n",
    "plt.rcParams['font.family'] = 'Arial'\n",
    "import numpy as np"
   ]
  },
  {
   "cell_type": "code",
   "execution_count": 3,
   "metadata": {},
   "outputs": [
    {
     "data": {
      "image/png": "[encoded data removed]",
      "text/plain": [
       "<Figure size 288x288 with 1 Axes>"
      ]
     },
     "metadata": {
      "needs_background": "light"
     },
     "output_type": "display_data"
    }
   ],
   "source": [
    "H1=np.linspace(0,40,100)\n",
    "\n",
    "fig = plt.figure(figsize = (4, 4))\n",
    "ax = fig.add_subplot(111)\n",
    "plt.errorbar(4.674939951961569,4.913530824659728, label=\"gKNa\", yerr=5.652228517409839, xerr=3.835699488861478, capsize=5, fmt='o', markersize=3,color=\"purple\")\n",
    "\n",
    "plt.errorbar(4.795121951219512, 21.165853658536584, label=\"gUNaV\",yerr=17.67378670422355, xerr=3.453803221442266, capsize=5, fmt='o', markersize=3,color=\"green\")\n",
    "\n",
    "plt.errorbar(5.401960784313726, 8.411764705882353, label=\"x up\",yerr=10.117305055779209, xerr=4.298334843847635, capsize=5, fmt='o', markersize=3,color=\"blue\")\n",
    "plt.errorbar(4.2674418604651165, 20.732558139534884, label=\"x down\",yerr=17.716386068168283, xerr=3.134297957833662, capsize=5, fmt='o', markersize=3)\n",
    "plt.errorbar(5.01418439716312, 18.06382978723404, label=\"y\",yerr=16.28261604696032, xerr=3.9464245701626557, capsize=5, fmt='o', markersize=3,color=\"pink\")\n",
    "\n",
    "\n",
    "plt.plot(H1,H1, color=\"black\")\n",
    "Z=np.linspace(0,40,3)\n",
    "ax.set_xticks(Z)\n",
    "Z=np.linspace(0,40,3)\n",
    "ax.set_yticks(Z)\n",
    "\n",
    "plt.savefig(\"Fig5B.pdf\")"
   ]
  },
  {
   "cell_type": "code",
   "execution_count": null,
   "metadata": {},
   "outputs": [],
   "source": []
  }
 ],
 "metadata": {
  "kernelspec": {
   "display_name": "Python 3",
   "language": "python",
   "name": "python3"
  },
  "language_info": {
   "codemirror_mode": {
    "name": "ipython",
    "version": 3
   },
   "file_extension": ".py",
   "mimetype": "text/x-python",
   "name": "python",
   "nbconvert_exporter": "python",
   "pygments_lexer": "ipython3",
   "version": "3.8.5"
  }
 },
 "nbformat": 4,
 "nbformat_minor": 4
}
