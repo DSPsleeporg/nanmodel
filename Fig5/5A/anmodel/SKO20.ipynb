{
 "cells": [
  {
   "cell_type": "code",
   "execution_count": 1,
   "metadata": {},
   "outputs": [],
   "source": [
    "import os\n",
    "import sys\n",
    "import requests\n",
    "from datetime import datetime\n",
    "from multiprocessing import Pool\n",
    "import numpy as np\n",
    "import pandas as pd\n",
    "from pathlib import Path\n",
    "import pickle\n",
    "from time import time\n",
    "from typing import Dict, List, Optional\n",
    "import warnings\n",
    "warnings.filterwarnings('ignore')\n",
    "sys.path.append('../')\n",
    "sys.path.append('../anmodel')\n",
    "import matplotlib.pyplot as plt\n",
    "from PIL import Image\n",
    "import matplotlib.pyplot as plt\n",
    "import anmodel\n",
    "from tqdm import tqdm\n",
    "als = anmodel.analysis.WaveCheck()\n",
    "als = anmodel.analysis.WaveCheck()"
   ]
  },
  {
   "cell_type": "code",
   "execution_count": 2,
   "metadata": {},
   "outputs": [],
   "source": [
    "mnnan1=anmodel.models.FNANdmodel()"
   ]
  },
  {
   "cell_type": "code",
   "execution_count": 3,
   "metadata": {},
   "outputs": [],
   "source": [
    "S=pd.read_csv(\"A.csv\")"
   ]
  },
  {
   "cell_type": "code",
   "execution_count": 4,
   "metadata": {},
   "outputs": [
    {
     "name": "stderr",
     "output_type": "stream",
     "text": [
      "100%|██████████| 1704/1704 [35:06:44<00:00, 74.18s/it]    \n"
     ]
    }
   ],
   "source": [
    "Num=2\n",
    "\n",
    "C=0\n",
    "M=0\n",
    "Y=0\n",
    "L=0\n",
    "\n",
    "x=len(S[\"g_kvhh\"])\n",
    "for j in tqdm(range(x)):\n",
    "    if j<=340:\n",
    "        continue\n",
    "    if j>=681:\n",
    "        continue\n",
    "        \n",
    "    A=[]\n",
    "\n",
    "    c=j\n",
    "    A.append(S['g_kvhh'][c])\n",
    "    A.append(S['g_unav'][c])\n",
    "    A.append(S['g_kna'][c])\n",
    "    A.append(S['g_kca'][c])\n",
    "    A.append(S['g_leak'][c]*0.6095)\n",
    "    A.append(S['g_leak'][c]*0.3905)\n",
    "    A.append(S['g_cav'][c])\n",
    "\n",
    "    A.append(S['t_na'][c])\n",
    "    A.append(S['t_ca'][c])\n",
    "    A.append(S['x_na'][c])\n",
    "    A.append(S['y_na'][c])\n",
    "    A.append(S['g_nav'][c])       \n",
    "    A.append(S['g_nap'][c])\n",
    "    A.append(S['g_kva'][c])\n",
    "    A.append(S['g_kvsi'][c])\n",
    "    A.append(S['g_kir'][c])\n",
    "    A.append(S['g_ampar'][c])\n",
    "    A.append(S['g_nmdar'][c])\n",
    "    A.append(S['g_gabar'][c])\n",
    "\n",
    "\n",
    "\n",
    "    A[Num]=0\n",
    "\n",
    "    BBB=['g_kvhh', 'g_unav', 'g_kna','g_kca', 'g_lek', 'g_lena', 'g_cav', 't_na', 't_ca', 'x_na', 'y_na','g_nav', 'g_nap','g_kva','g_kvsi','g_kir','g_ampar','g_nmdar', 'g_gabar' ]\n",
    "    dic={key:  val for key, val in zip(BBB,A)}\n",
    "    #new_params: pd.DataFrame=pd.DataFrame.from_dict(dic,orient='index').T\n",
    "    new_params=dic\n",
    "\n",
    "    mnnan1.set_params(new_params)\n",
    "    s,info=mnnan1.run_odeint()\n",
    "    st=als.pattern(s[4999:,0]).name\n",
    "    if(st==\"SWS\" or st==\"SWS_FEW_SPIKES\"):\n",
    "        C=C+1\n",
    "    elif(st==\"RESTING\"):\n",
    "        M=M+1\n",
    "    elif(st==\"AWAKE\"):\n",
    "        Y=Y+1\n",
    "    else:\n",
    "        L=L+1\n",
    "                \n"
   ]
  },
  {
   "cell_type": "code",
   "execution_count": 5,
   "metadata": {},
   "outputs": [
    {
     "data": {
      "text/plain": [
       "[62.3463079,\n",
       " 0.043138524000000004,\n",
       " 0,\n",
       " 1.110211007,\n",
       " 0.032492413306,\n",
       " 0.020817534694,\n",
       " 27.90517161,\n",
       " 1158.6298570000001,\n",
       " 101.219206,\n",
       " 10.28632749,\n",
       " -18.8463817,\n",
       " 31.4667053,\n",
       " 23.51026649,\n",
       " 2.700127611,\n",
       " 1.9824113909999999,\n",
       " 0.017299538,\n",
       " 0.035862539,\n",
       " 0.5536611370000001,\n",
       " 0]"
      ]
     },
     "execution_count": 5,
     "metadata": {},
     "output_type": "execute_result"
    }
   ],
   "source": [
    "A"
   ]
  },
  {
   "cell_type": "code",
   "execution_count": 6,
   "metadata": {},
   "outputs": [
    {
     "name": "stdout",
     "output_type": "stream",
     "text": [
      "4\n",
      "59\n",
      "277\n",
      "0\n"
     ]
    }
   ],
   "source": [
    "print(C)\n",
    "print(M)\n",
    "print(Y)\n",
    "print(L)"
   ]
  },
  {
   "cell_type": "code",
   "execution_count": null,
   "metadata": {},
   "outputs": [],
   "source": []
  },
  {
   "cell_type": "code",
   "execution_count": null,
   "metadata": {},
   "outputs": [],
   "source": [
    "A=[C,M,Y,L]\n",
    "BBB=[ 'SWS', 'RESTING', 'AWAKE','ELSE']\n",
    "dic={key:  val for key, val in zip(BBB,A)}\n",
    "new_params: pd.DataFrame=pd.DataFrame.from_dict(dic,orient='index').T\n",
    "new_params.to_csv(\"{}.csv\" .format(Num))"
   ]
  },
  {
   "cell_type": "code",
   "execution_count": null,
   "metadata": {},
   "outputs": [],
   "source": []
  },
  {
   "cell_type": "code",
   "execution_count": null,
   "metadata": {},
   "outputs": [],
   "source": []
  },
  {
   "cell_type": "code",
   "execution_count": null,
   "metadata": {},
   "outputs": [],
   "source": []
  },
  {
   "cell_type": "code",
   "execution_count": null,
   "metadata": {},
   "outputs": [],
   "source": []
  },
  {
   "cell_type": "code",
   "execution_count": null,
   "metadata": {},
   "outputs": [],
   "source": []
  },
  {
   "cell_type": "code",
   "execution_count": null,
   "metadata": {},
   "outputs": [],
   "source": []
  },
  {
   "cell_type": "code",
   "execution_count": null,
   "metadata": {},
   "outputs": [],
   "source": []
  },
  {
   "cell_type": "code",
   "execution_count": null,
   "metadata": {},
   "outputs": [],
   "source": []
  }
 ],
 "metadata": {
  "kernelspec": {
   "display_name": "Python 3",
   "language": "python",
   "name": "python3"
  },
  "language_info": {
   "codemirror_mode": {
    "name": "ipython",
    "version": 3
   },
   "file_extension": ".py",
   "mimetype": "text/x-python",
   "name": "python",
   "nbconvert_exporter": "python",
   "pygments_lexer": "ipython3",
   "version": "3.7.0"
  }
 },
 "nbformat": 4,
 "nbformat_minor": 4
}
