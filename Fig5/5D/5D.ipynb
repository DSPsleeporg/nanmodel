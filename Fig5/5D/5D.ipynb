{
 "cells": [
  {
   "cell_type": "code",
   "execution_count": null,
   "metadata": {},
   "outputs": [],
   "source": [
    "import os\n",
    "import sys\n",
    "import matplotlib.pyplot as plt\n",
    "import numpy as np\n",
    "import seaborn as sns\n",
    "from tqdm import tqdm\n",
    "fs = 20\n",
    "NE = 84\n",
    "con_th =str(0.800000)\n",
    "seed = 4\n",
    "T = 10000\n",
    "dt = 0.01\n",
    "x = np.arange(0,T,dt)"
   ]
  },
  {
   "cell_type": "code",
   "execution_count": null,
   "metadata": {},
   "outputs": [],
   "source": [
    "data=[]\n",
    "for j in tqdm(range(100)):\n",
    "    if(j!=55):\n",
    "        continue\n",
    "    v_dir = \"FNAN2_random/N_{}/conth_0.800000/seed_{}/number{}/\".format(NE,seed, j)\n",
    "    data=[]\n",
    "    for i in range(NE):\n",
    "        v_file = \"N\"+str(i)+\".csv\"\n",
    "        v = np.genfromtxt(v_dir + v_file, delimiter=',', dtype=np.float64)\n",
    "        v1=v[0:-1]\n",
    "        data.append(v1)\n",
    "        \n",
    "    fig=plt.figure()\n",
    "    ax = sns.heatmap(data, cmap='Spectral', cbar=True)\n",
    "\n",
    "    ax.set_xticks([])\n",
    "    ax.set_yticks([])\n",
    "\n",
    "    if ax.collections[0].colorbar:  \n",
    "        ax.collections[0].colorbar.ax.set_ticks([])\n",
    "\n",
    "    plt.savefig(\"{}a.png\" .format(str(j)))\n",
    "    plt.close()\n",
    "    del fig \n",
    "    del data"
   ]
  },
  {
   "cell_type": "code",
   "execution_count": null,
   "metadata": {},
   "outputs": [],
   "source": [
    "data=[]\n",
    "for j in tqdm(range(100)):\n",
    "    if(j!=55):\n",
    "        continue\n",
    "    v_dir = root +\"FNAN3_random/N_{}/conth_0.800000/seed_{}/number{}/\".format(NE,seed, j)\n",
    "    data=[]\n",
    "    for i in range(NE):\n",
    "        v_file = \"N\"+str(i)+\".csv\"\n",
    "        v = np.genfromtxt(v_dir + v_file, delimiter=',', dtype=np.float64)\n",
    "        v1=v[0:-1]\n",
    "        data.append(v1)\n",
    "\n",
    "    fig=plt.figure()\n",
    "    plt.title(\"{}\" .format(j))\n",
    "    ax = sns.heatmap(data, cmap='Spectral', cbar=True)\n",
    "\n",
    "    ax.set_xticks([])\n",
    "    ax.set_yticks([])\n",
    "\n",
    "    if ax.collections[0].colorbar:  \n",
    "        ax.collections[0].colorbar.ax.set_ticks([])\n",
    "\n",
    "    plt.savefig(\"{}b.png\" .format(str(j)))\n",
    "    plt.close()\n",
    "    del fig \n",
    "    del data"
   ]
  }
 ],
 "metadata": {
  "kernelspec": {
   "display_name": "Python 3",
   "language": "python",
   "name": "python3"
  },
  "language_info": {
   "codemirror_mode": {
    "name": "ipython",
    "version": 3
   },
   "file_extension": ".py",
   "mimetype": "text/x-python",
   "name": "python",
   "nbconvert_exporter": "python",
   "pygments_lexer": "ipython3",
   "version": "3.8.5"
  }
 },
 "nbformat": 4,
 "nbformat_minor": 4
}
