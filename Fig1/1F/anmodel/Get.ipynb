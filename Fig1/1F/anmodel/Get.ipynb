{
 "cells": [
  {
   "cell_type": "code",
   "execution_count": null,
   "metadata": {},
   "outputs": [],
   "source": [
    "import os\n",
    "import sys\n",
    "import requests\n",
    "from datetime import datetime\n",
    "from multiprocessing import Pool\n",
    "import numpy as np\n",
    "import pandas as pd\n",
    "from pathlib import Path\n",
    "import pickle\n",
    "from time import time\n",
    "from typing import Dict, List, Optional\n",
    "import warnings\n",
    "warnings.filterwarnings('ignore')\n",
    "sys.path.append('../')\n",
    "sys.path.append('../anmodel')\n",
    "import matplotlib.pyplot as plt\n",
    "from PIL import Image\n",
    "import matplotlib.pyplot as plt\n",
    "import anmodel\n",
    "from tqdm import tqdm"
   ]
  },
  {
   "cell_type": "code",
   "execution_count": null,
   "metadata": {},
   "outputs": [],
   "source": [
    "A=[0,0,0,0]\n",
    "BBB=['SWS','RESTING','AWAKE','ELSE']\n",
    "dic={key:  val for key, val in zip(BBB,A)}\n",
    "#new_params: pd.DataFrame=pd.DataFrame.from_dict(dic,orient='index').T\n",
    "\n",
    "new_params: pd.DataFrame=pd.DataFrame.from_dict(dic,orient='index').T\n",
    "new_params.to_csv(\"SA.csv\")"
   ]
  },
  {
   "cell_type": "code",
   "execution_count": null,
   "metadata": {},
   "outputs": [],
   "source": [
    "for i in tqdm(range(50)):\n",
    "    num=i\n",
    "    S=pd.read_csv(\"{}.csv\" .format(num))\n",
    "    count=0\n",
    "    if(len(S)==0):\n",
    "        continue\n",
    "    x=1\n",
    "    for j in range(x):\n",
    "        \n",
    "        A=[]\n",
    "        c=j\n",
    "        A.append(S['SWS'][c])\n",
    "        A.append(S['RESTING'][c])\n",
    "        A.append(S['AWAKE'][c])\n",
    "        A.append(S['ELSE'][c])\n",
    "\n",
    "\n",
    "\n",
    "      \n",
    "\n",
    "\n",
    "        \n",
    "\n",
    "        BBB=['SWS','RESTING', 'AWAKE','ELSE']\n",
    "        dic={key:  val for key, val in zip(BBB,A)}\n",
    "        new_params=dic\n",
    "        T=pd.read_csv(\"SA.csv\")\n",
    "        N: pd.DataFrame=pd.DataFrame.from_dict(new_params, orient=\"index\").T\n",
    "        T=pd.concat([T,N])\n",
    "        T.to_csv(\"SA.csv\")"
   ]
  },
  {
   "cell_type": "code",
   "execution_count": null,
   "metadata": {},
   "outputs": [],
   "source": [
    "X=pd.read_csv(\"SA.csv\")\n",
    "X.head(4000)"
   ]
  },
  {
   "cell_type": "code",
   "execution_count": null,
   "metadata": {},
   "outputs": [],
   "source": [
    "import os\n",
    "for i in range(50):\n",
    "\n",
    "    os.remove(\"{}.csv\" .format(i))"
   ]
  }
 ],
 "metadata": {
  "kernelspec": {
   "display_name": "Python 3",
   "language": "python",
   "name": "python3"
  },
  "language_info": {
   "codemirror_mode": {
    "name": "ipython",
    "version": 3
   },
   "file_extension": ".py",
   "mimetype": "text/x-python",
   "name": "python",
   "nbconvert_exporter": "python",
   "pygments_lexer": "ipython3",
   "version": "3.8.5"
  }
 },
 "nbformat": 4,
 "nbformat_minor": 4
}
