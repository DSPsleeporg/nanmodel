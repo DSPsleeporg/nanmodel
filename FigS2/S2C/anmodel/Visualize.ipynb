{
 "cells": [
  {
   "cell_type": "code",
   "execution_count": null,
   "metadata": {},
   "outputs": [],
   "source": [
    "import os\n",
    "import sys\n",
    "import requests\n",
    "from datetime import datetime\n",
    "from multiprocessing import Pool\n",
    "import numpy as np\n",
    "import pandas as pd\n",
    "from pathlib import Path\n",
    "import pickle\n",
    "from time import time\n",
    "from typing import Dict, List, Optional\n",
    "import warnings\n",
    "warnings.filterwarnings('ignore')\n",
    "\n",
    "import matplotlib.pyplot as plt\n",
    "from PIL import Image\n",
    "import matplotlib.pyplot as plt\n",
    "\n",
    "from tqdm import tqdm\n",
    "import matplotlib\n",
    "matplotlib.rcParams['pdf.fonttype'] = 42\n",
    "matplotlib.rcParams['ps.fonttype'] = 42\n",
    "plt.rcParams['font.family'] = 'Arial'"
   ]
  },
  {
   "cell_type": "code",
   "execution_count": null,
   "metadata": {},
   "outputs": [],
   "source": [
    "S=pd.read_csv(\"SA8.csv\")\n",
    "Model=\"NAN1.1\"\n",
    "\n",
    "######################################################\n",
    "if(Model==\"NAN1.0\"):\n",
    "    BBB=['g_kvhh', 'g_unav', 'g_kna', 'g_leak',  'g_cav', 't_na', 'x_na', 'y_na']\n",
    "if(Model==\"NAN1.1\"):\n",
    "    BBB=['g_kvhh', 'g_unav', 'g_kna', 'g_leak',  't_na', 'x_na', 'y_na']\n",
    "if(Model==\"NAN1.2\"):\n",
    "    BBB=['g_kvhh', 'g_unav', 'g_kna', 'g_leak',  'g_nav', 't_na', 'x_na', 'y_na']\n",
    "if(Model==\"NAN1.3\"):\n",
    "    BBB=['g_kvhh', 'g_unavy', 'g_kna', 'g_leak',  'g_cav', 't_na', 'y_na']\n",
    "if(Model==\"NAN2.0\"):\n",
    "    BBB=['g_kvhh', 'g_unav', 'g_nak', 'g_leak',  'g_cav',  'x_na', 'y_na']\n",
    "if(Model==\"NAN2.1\"):\n",
    "    BBB=['g_kvhh', 'g_unav', 'g_nak', 'g_leak',  'g_cav',  'x_na', 'y_na', 'g_kna']\n",
    "if(Model==\"SNAN\"):\n",
    "    BBB=['g_kvhh', 'g_unav', 'g_kna', 'g_leak',  'g_cav', 't_na', 'x_na', 'y_na', 't_ca', 'g_kca']\n",
    "if(Model==\"FNAN\"):\n",
    "    BBB=['g_leak', 'g_nav', 'g_kvhh', 'g_kva', 'g_kvsi', 'g_cav', 'g_kca', 'g_nap', 'g_kir', 'g_unav', 'g_kna', 'g_ampar''g_nmdar', 'g_gabar', 't_ca', 't_na', 'x_na', 'y_na']"
   ]
  },
  {
   "cell_type": "code",
   "execution_count": null,
   "metadata": {},
   "outputs": [],
   "source": [
    "Number="
   ]
  },
  {
   "cell_type": "code",
   "execution_count": null,
   "metadata": {},
   "outputs": [],
   "source": [
    "plt.figure(figsize=(10,5))    \n",
    "T=np.linspace(-45,45,50)\n",
    "xx=np.linspace(-45,45,10)\n",
    "X=[]\n",
    "for i in range(10):\n",
    "    X.append(xx[i])\n",
    "    \n",
    "s=[]\n",
    "a=[]\n",
    "r=[]\n",
    "e=[]\n",
    "for i in range(len(S[\"SWS\"])):\n",
    "    if(i==0):\n",
    "        continue\n",
    "    s.append(S[\"SWS\"][i])\n",
    "    a.append(S[\"AWAKE\"][i])\n",
    "    r.append(S[\"RESTING\"][i])\n",
    "    e.append(S[\"ELSE\"][i])\n",
    "    XXXXX=(s[i-1]+a[i-1]+r[i-1]+e[i-1])\n",
    "    s[i-1]=s[i-1]/XXXXX\n",
    "    a[i-1]=a[i-1]/XXXXX\n",
    "    r[i-1]=r[i-1]/XXXXX\n",
    "    e[i-1]=e[i-1]/XXXXX\n",
    "        \n",
    "'''\n",
    "plt.plot(T, s,  'c', marker=\"o\",markersize=4,  label=\"SWS\")\n",
    "plt.plot(T, a, 'y',  marker=\"o\", markersize=4, label=\"AWAKE\")\n",
    "plt.plot(T, r, 'm',  marker=\"o\",markersize=4,  label=\"RESTING\")\n",
    "plt.plot(T,e,'g', marker=\"o\", markersize=4, label=\"ELSE\")\n",
    "'''\n",
    "fig=plt.figure()\n",
    "ax = fig.add_subplot(111)\n",
    "plt.plot(T, s,  'c',  label=\"SWS\")\n",
    "plt.plot(T, a, 'y',   label=\"AWAKE\")\n",
    "plt.plot(T, r, 'm',    label=\"RESTING\")\n",
    "plt.plot(T,e,'g',  label=\"ELSE\")\n",
    "plt.xticks(X)\n",
    "\n",
    "Z=np.linspace(-45,45,5)\n",
    "ax.set_xticks(Z)\n",
    "Z=np.linspace(0,1,3)\n",
    "ax.set_yticks(Z)\n",
    "\n",
    "#plt.savefig(\"{}.pdf\" .format(BBB[Number]))\n",
    "plt.savefig(\"g_lena.pdf\")"
   ]
  },
  {
   "cell_type": "code",
   "execution_count": null,
   "metadata": {},
   "outputs": [],
   "source": []
  },
  {
   "cell_type": "code",
   "execution_count": null,
   "metadata": {},
   "outputs": [],
   "source": []
  }
 ],
 "metadata": {
  "kernelspec": {
   "display_name": "Python 3",
   "language": "python",
   "name": "python3"
  },
  "language_info": {
   "codemirror_mode": {
    "name": "ipython",
    "version": 3
   },
   "file_extension": ".py",
   "mimetype": "text/x-python",
   "name": "python",
   "nbconvert_exporter": "python",
   "pygments_lexer": "ipython3",
   "version": "3.8.5"
  }
 },
 "nbformat": 4,
 "nbformat_minor": 4
}
