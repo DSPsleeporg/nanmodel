{
 "cells": [
  {
   "cell_type": "code",
   "execution_count": 10,
   "metadata": {},
   "outputs": [],
   "source": [
    "import pandas as pd\n",
    "import matplotlib.pyplot as plt\n",
    "import matplotlib\n",
    "import numpy as np\n",
    "matplotlib.rcParams['pdf.fonttype'] = 42\n",
    "matplotlib.rcParams['ps.fonttype'] = 42\n",
    "plt.rcParams['font.family'] = 'Arial'"
   ]
  },
  {
   "cell_type": "code",
   "execution_count": 11,
   "metadata": {},
   "outputs": [],
   "source": [
    "S=pd.read_csv(\"A.csv\")"
   ]
  },
  {
   "cell_type": "code",
   "execution_count": 3,
   "metadata": {},
   "outputs": [
    {
     "data": {
      "image/png": "[encoded data removed]",
      "text/plain": [
       "<Figure size 432x288 with 1 Axes>"
      ]
     },
     "metadata": {
      "needs_background": "light"
     },
     "output_type": "display_data"
    }
   ],
   "source": [
    "x=[]\n",
    "for i in range(len(S[\"g_kvhh\"])):\n",
    "    if i==0:\n",
    "        continue\n",
    "    ss1=S[\"g_kna\"][i]\n",
    "    x.append(ss1)\n",
    "    \n",
    "fig=plt.figure()\n",
    "ax = fig.add_subplot(111)\n",
    "Z=np.linspace(-2,2,3)\n",
    "\n",
    "\n",
    "y=[]\n",
    "for i in range(len(x)):\n",
    "    y.append(np.log10(x[i]))\n",
    "plt.hist(y,bins=40)\n",
    "plt.yticks(np.arange(0, 150, 50))\n",
    "ax.set_xticks(Z)\n",
    "plt.title(\"g_kna\")\n",
    "\n",
    "plt.savefig(\"SupFig1Dkna.pdf\")"
   ]
  },
  {
   "cell_type": "code",
   "execution_count": 4,
   "metadata": {},
   "outputs": [
    {
     "data": {
      "image/png": "[encoded data removed]",
      "text/plain": [
       "<Figure size 432x288 with 1 Axes>"
      ]
     },
     "metadata": {
      "needs_background": "light"
     },
     "output_type": "display_data"
    }
   ],
   "source": [
    "x=[]\n",
    "for i in range(len(S[\"g_kvhh\"])):\n",
    "    if i==0:\n",
    "        continue\n",
    "    ss1=S[\"g_kvhh\"][i]\n",
    "    x.append(ss1)\n",
    "    \n",
    "fig=plt.figure()\n",
    "ax = fig.add_subplot(111)\n",
    "Z=np.linspace(-2,2,3)\n",
    "\n",
    "\n",
    "y=[]\n",
    "for i in range(len(x)):\n",
    "    y.append(np.log10(x[i]))\n",
    "plt.hist(y,bins=40)\n",
    "plt.yticks(np.arange(0, 150, 50))\n",
    "ax.set_xticks(Z)\n",
    "plt.title(\"g_kvhh\")\n",
    "\n",
    "plt.savefig(\"SupFig1Dkvhh.pdf\")"
   ]
  },
  {
   "cell_type": "code",
   "execution_count": 5,
   "metadata": {},
   "outputs": [
    {
     "data": {
      "image/png": "[encoded data removed]",
      "text/plain": [
       "<Figure size 432x288 with 1 Axes>"
      ]
     },
     "metadata": {
      "needs_background": "light"
     },
     "output_type": "display_data"
    }
   ],
   "source": [
    "x=[]\n",
    "for i in range(len(S[\"g_kvhh\"])):\n",
    "    if i==0:\n",
    "        continue\n",
    "    ss1=S[\"g_unav\"][i]\n",
    "    x.append(ss1)\n",
    "    \n",
    "fig=plt.figure()\n",
    "ax = fig.add_subplot(111)\n",
    "Z=np.linspace(-2,2,3)\n",
    "\n",
    "\n",
    "y=[]\n",
    "for i in range(len(x)):\n",
    "    y.append(np.log10(x[i]))\n",
    "plt.hist(y,bins=40)\n",
    "plt.yticks(np.arange(0, 150, 50))\n",
    "ax.set_xticks(Z)\n",
    "plt.title(\"g_uunav\")\n",
    "\n",
    "plt.savefig(\"SupFig1Dunav.pdf\")"
   ]
  },
  {
   "cell_type": "code",
   "execution_count": 6,
   "metadata": {},
   "outputs": [
    {
     "data": {
      "image/png": "[encoded data removed]",
      "text/plain": [
       "<Figure size 432x288 with 1 Axes>"
      ]
     },
     "metadata": {
      "needs_background": "light"
     },
     "output_type": "display_data"
    }
   ],
   "source": [
    "x=[]\n",
    "for i in range(len(S[\"g_kvhh\"])):\n",
    "    if i==0:\n",
    "        continue\n",
    "    ss1=S[\"g_leak\"][i]\n",
    "    x.append(ss1)\n",
    "    \n",
    "fig=plt.figure()\n",
    "ax = fig.add_subplot(111)\n",
    "Z=np.linspace(-2,2,3)\n",
    "\n",
    "\n",
    "y=[]\n",
    "for i in range(len(x)):\n",
    "    y.append(np.log10(x[i]))\n",
    "plt.hist(y,bins=40)\n",
    "plt.yticks(np.arange(0, 150, 50))\n",
    "ax.set_xticks(Z)\n",
    "plt.title(\"g_leak\")\n",
    "\n",
    "plt.savefig(\"SupFig1Dleak.pdf\")"
   ]
  },
  {
   "cell_type": "code",
   "execution_count": null,
   "metadata": {},
   "outputs": [],
   "source": []
  },
  {
   "cell_type": "code",
   "execution_count": 15,
   "metadata": {},
   "outputs": [
    {
     "data": {
      "image/png": "[encoded data removed]",
      "text/plain": [
       "<Figure size 432x288 with 1 Axes>"
      ]
     },
     "metadata": {
      "needs_background": "light"
     },
     "output_type": "display_data"
    }
   ],
   "source": [
    "x=[]\n",
    "for i in range(len(S[\"g_kvhh\"])):\n",
    "    if i==0:\n",
    "        continue\n",
    "    ss1=S[\"x_na\"][i]\n",
    "\n",
    "    x.append(ss1)\n",
    "\n",
    "plt.hist(x,bins=40,range=(-45,45))\n",
    "plt.yticks(np.arange(0, 300, 100))\n",
    "plt.title(\"x_na\")\n",
    "plt.savefig(\"SupFig1Dxna.pdf\")"
   ]
  },
  {
   "cell_type": "code",
   "execution_count": 21,
   "metadata": {},
   "outputs": [
    {
     "data": {
      "image/png": "[encoded data removed]",
      "text/plain": [
       "<Figure size 432x288 with 1 Axes>"
      ]
     },
     "metadata": {
      "needs_background": "light"
     },
     "output_type": "display_data"
    }
   ],
   "source": [
    "x=[]\n",
    "for i in range(len(S[\"g_kvhh\"])):\n",
    "    if i==0:\n",
    "        continue\n",
    "    ss1=S[\"y_na\"][i]\n",
    "\n",
    "    x.append(ss1)\n",
    "\n",
    "plt.hist(x,bins=40,range=(-45,45))\n",
    "plt.yticks(np.arange(0, 130, 60))\n",
    "plt.title(\"y_na\")\n",
    "plt.savefig(\"SupFig1Dyna.pdf\")"
   ]
  },
  {
   "cell_type": "code",
   "execution_count": 9,
   "metadata": {},
   "outputs": [
    {
     "data": {
      "image/png": "[encoded data removed]",
      "text/plain": [
       "<Figure size 432x288 with 1 Axes>"
      ]
     },
     "metadata": {
      "needs_background": "light"
     },
     "output_type": "display_data"
    }
   ],
   "source": [
    "x=[]\n",
    "for i in range(len(S[\"g_kvhh\"])):\n",
    "    if i==0:\n",
    "        continue\n",
    "    ss1=S[\"t_na\"][i]\n",
    "    x.append(ss1)\n",
    "    \n",
    "fig=plt.figure()\n",
    "ax = fig.add_subplot(111)\n",
    "Z=np.linspace(3,4,3)\n",
    "\n",
    "\n",
    "y=[]\n",
    "for i in range(len(x)):\n",
    "    y.append(np.log10(x[i]))\n",
    "plt.hist(y,bins=40)\n",
    "plt.yticks(np.arange(0, 150, 50))\n",
    "ax.set_xticks(Z)\n",
    "plt.title(\"t_na\")\n",
    "\n",
    "plt.savefig(\"SupFig1Dtna.pdf\")"
   ]
  }
 ],
 "metadata": {
  "kernelspec": {
   "display_name": "Python 3",
   "language": "python",
   "name": "python3"
  },
  "language_info": {
   "codemirror_mode": {
    "name": "ipython",
    "version": 3
   },
   "file_extension": ".py",
   "mimetype": "text/x-python",
   "name": "python",
   "nbconvert_exporter": "python",
   "pygments_lexer": "ipython3",
   "version": "3.8.5"
  }
 },
 "nbformat": 4,
 "nbformat_minor": 4
}
