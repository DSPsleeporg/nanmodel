{
 "cells": [
  {
   "cell_type": "code",
   "execution_count": null,
   "metadata": {},
   "outputs": [],
   "source": [
    "import os\n",
    "import sys\n",
    "import requests\n",
    "from datetime import datetime \n",
    "from multiprocessing import Pool\n",
    "import numpy as  np\n",
    "import pandas as pd\n",
    "from pathlib import Path\n",
    "import pickle\n",
    "from tqdm import tqdm\n",
    "from time import time\n",
    "from typing import Dict, List, Optional\n",
    "sys.path.append('../')\n",
    "sys.path.append('../anmodel')\n",
    "import matplotlib.pyplot as plt\n",
    "import anmodel\n",
    "import matplotlib\n",
    "matplotlib.rcParams['pdf.fonttype'] = 42\n",
    "matplotlib.rcParams['ps.fonttype'] = 42\n",
    "plt.rcParams['font.family'] = 'Arial'"
   ]
  },
  {
   "cell_type": "code",
   "execution_count": null,
   "metadata": {},
   "outputs": [],
   "source": [
    "S=pd.read_csv(\"A.csv\")\n",
    "anan1=anmodel.models.NAN10model()\n",
    "num=542\n",
    "\n",
    "A=[]\n",
    "A.append(S[\"g_kvhh\"][num])\n",
    "A.append(S[\"g_unav\"][num])\n",
    "A.append(S[\"g_kna\"][num])\n",
    "A.append(S[\"g_leak\"][num])\n",
    "A.append(S[\"t_na\"][num])\n",
    "A.append(S[\"x_na\"][num])\n",
    "A.append(S[\"y_na\"][num])\n",
    "A.append(S[\"g_cav\"][num])\n",
    "\n",
    "\n",
    "BBB=['g_kvhh', 'g_unav', 'g_kna', 'g_leak',  't_na', 'x_na', 'y_na', 'g_cav']\n",
    "dic={key: val for key , val in zip(BBB,A)}\n",
    "new_params=dic\n",
    "anan1.set_params(new_params)\n",
    "s,info=anan1.run_odeint()\n",
    "plt.plot(s[40000:,0])"
   ]
  },
  {
   "cell_type": "code",
   "execution_count": null,
   "metadata": {},
   "outputs": [],
   "source": [
    "fig=plt.figure()\n",
    "ax = fig.add_subplot(111)\n",
    "plt.plot(s[20000:,0])\n",
    "Z=np.linspace(-85,60,5)\n",
    "ax.set_yticks(Z)\n",
    "Z=np.linspace(0,30000,4)\n",
    "ax.set_xticks(Z)\n",
    "plt.savefig(\"FigS3BC.pdf\")"
   ]
  },
  {
   "cell_type": "code",
   "execution_count": null,
   "metadata": {},
   "outputs": [],
   "source": [
    "from scipy.signal import periodogram\n",
    "from scipy.signal import argrelmax\n",
    "f, spw = periodogram(s[40000:,0], fs=1000)\n",
    "maxamp: float = max(spw)\n",
    "nummax: int = spw.tolist().index(maxamp)\n",
    "maxfre: float = f[nummax]"
   ]
  },
  {
   "cell_type": "code",
   "execution_count": null,
   "metadata": {},
   "outputs": [],
   "source": [
    "plt.scatter(np.log(f),spw, s=1.0)\n",
    "plt.savefig(\"FigS3A.pdf\")"
   ]
  },
  {
   "cell_type": "code",
   "execution_count": null,
   "metadata": {},
   "outputs": [],
   "source": [
    "t=[]\n",
    "for i in range(1*60):\n",
    "    t.append(i)\n",
    "C=[]\n",
    "g=[]\n",
    "for i in range(len(t)):\n",
    "    C.append(s[49180:,0][i])\n",
    "    g.append(-80.5)\n",
    "\n",
    "Pointx=[]\n",
    "Pointy=[]\n",
    "for i in range(33):\n",
    "    Pointx.append(t[i+18])\n",
    "    Pointy.append(C[i+18])\n",
    "    \n",
    "\n",
    "\n",
    "fig=plt.figure()\n",
    "ax = fig.add_subplot(111)\n",
    "plt.plot(t,C, linewidth=1)\n",
    "plt.plot(g)\n",
    "plt.scatter(Pointx, Pointy, s=3, color=\"red\")\n",
    "Z=np.linspace(-85,60,5)\n",
    "ax.set_yticks(Z)\n",
    "Z=np.linspace(0,60,4)\n",
    "ax.set_xticks(Z)\n",
    "plt.savefig(\"FigS3D.pdf\")"
   ]
  },
  {
   "cell_type": "code",
   "execution_count": null,
   "metadata": {},
   "outputs": [],
   "source": [
    "t=[]\n",
    "for i in range(1*40):\n",
    "    t.append(i)\n",
    "C=[]\n",
    "g=[]\n",
    "for i in range(len(t)):\n",
    "    C.append(s[48915:,0][i])\n",
    "    g.append(-80.5)\n",
    "\n",
    "Pointx=[]\n",
    "Pointy=[]\n",
    "for i in range(33):\n",
    "    Pointx.append(t[i+0])\n",
    "    Pointy.append(C[i+0])\n",
    "    \n",
    "\n",
    "\n",
    "fig=plt.figure()\n",
    "ax = fig.add_subplot(111)\n",
    "plt.plot(t,C, linewidth=1)\n",
    "plt.plot(g)\n",
    "plt.scatter(Pointx, Pointy, s=3, color=\"red\")\n",
    "Z=np.linspace(-85,60,5)\n",
    "ax.set_yticks(Z)\n",
    "Z=np.linspace(0,40,3)\n",
    "ax.set_xticks(Z)\n",
    "plt.savefig(\"FigS3E.pdf\")"
   ]
  }
 ],
 "metadata": {
  "kernelspec": {
   "display_name": "Python 3",
   "language": "python",
   "name": "python3"
  },
  "language_info": {
   "codemirror_mode": {
    "name": "ipython",
    "version": 3
   },
   "file_extension": ".py",
   "mimetype": "text/x-python",
   "name": "python",
   "nbconvert_exporter": "python",
   "pygments_lexer": "ipython3",
   "version": "3.8.5"
  }
 },
 "nbformat": 4,
 "nbformat_minor": 4
}
